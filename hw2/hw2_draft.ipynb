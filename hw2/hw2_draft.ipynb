{
 "cells": [
  {
   "cell_type": "code",
   "execution_count": 9,
   "id": "52b6ec93",
   "metadata": {},
   "outputs": [],
   "source": [
    "import mlflow"
   ]
  },
  {
   "cell_type": "code",
   "execution_count": 5,
   "id": "e3876beb",
   "metadata": {},
   "outputs": [],
   "source": [
    "from train import run\n",
    "import os\n",
    "import pickle\n",
    "from sklearn.ensemble import RandomForestRegressor\n",
    "from sklearn.metrics import mean_squared_error"
   ]
  },
  {
   "cell_type": "code",
   "execution_count": 14,
   "id": "dd16ac62",
   "metadata": {},
   "outputs": [],
   "source": [
    "def load_pickle(filename: str):\n",
    "    with open(filename, \"rb\") as f_in:\n",
    "        return pickle.load(f_in)\n",
    "\n",
    "\n",
    "def run(data_path):\n",
    "    mlflow.sklearn.autolog()\n",
    "    with mlflow.start_run():\n",
    "        X_train, y_train = load_pickle(os.path.join(data_path, \"train.pkl\"))\n",
    "        X_valid, y_valid = load_pickle(os.path.join(data_path, \"valid.pkl\"))\n",
    "\n",
    "        rf = RandomForestRegressor(max_depth=10, random_state=0)\n",
    "        rf.fit(X_train, y_train)\n",
    "        y_pred = rf.predict(X_valid)\n",
    "\n",
    "        rmse = mean_squared_error(y_valid, y_pred, squared=False)\n"
   ]
  },
  {
   "cell_type": "code",
   "execution_count": 15,
   "id": "f46796d7",
   "metadata": {},
   "outputs": [
    {
     "name": "stderr",
     "output_type": "stream",
     "text": [
      "2022/05/29 23:27:15 WARNING mlflow.utils.autologging_utils: MLflow autologging encountered a warning: \"/Users/m.shark/anaconda3/envs/venv_mlops/lib/python3.9/site-packages/_distutils_hack/__init__.py:30: UserWarning: Setuptools is replacing distutils.\"\n"
     ]
    },
    {
     "name": "stdout",
     "output_type": "stream",
     "text": [
      "CPU times: user 8.76 s, sys: 247 ms, total: 9.01 s\n",
      "Wall time: 14.8 s\n"
     ]
    }
   ],
   "source": [
    "%time run('/Users/m.shark/Documents/mlops/mlops-zoomcamp/02-experiment-tracking/homework/output/')"
   ]
  },
  {
   "cell_type": "code",
   "execution_count": 13,
   "id": "eb2f93f8",
   "metadata": {},
   "outputs": [
    {
     "name": "stderr",
     "output_type": "stream",
     "text": [
      "2022/05/29 23:24:29 INFO mlflow.tracking.fluent: Experiment with name 'exp1' does not exist. Creating a new experiment.\n"
     ]
    },
    {
     "data": {
      "text/plain": [
       "<Experiment: artifact_location='./mlruns/1', experiment_id='1', lifecycle_stage='active', name='exp1', tags={}>"
      ]
     },
     "execution_count": 13,
     "metadata": {},
     "output_type": "execute_result"
    }
   ],
   "source": [
    "mlflow.set_tracking_uri(\"http://127.0.0.1:5000\")\n",
    "mlflow.set_experiment(\"exp1\")"
   ]
  },
  {
   "cell_type": "code",
   "execution_count": 16,
   "id": "d14c3d5f",
   "metadata": {},
   "outputs": [],
   "source": [
    "import argparse\n",
    "import os\n",
    "import pickle\n",
    "\n",
    "import mlflow\n",
    "import numpy as np\n",
    "from hyperopt import STATUS_OK, Trials, fmin, hp, tpe\n",
    "from hyperopt.pyll import scope\n",
    "from sklearn.ensemble import RandomForestRegressor\n",
    "from sklearn.metrics import mean_squared_error\n",
    "\n",
    "mlflow.set_tracking_uri(\"http://127.0.0.1:5000\")\n",
    "mlflow.set_experiment(\"random-forest-hyperopt\")\n",
    "\n",
    "\n",
    "def load_pickle(filename):\n",
    "    with open(filename, \"rb\") as f_in:\n",
    "        return pickle.load(f_in)\n",
    "\n",
    "\n",
    "def run(data_path, num_trials):\n",
    "\n",
    "\n",
    "    X_train, y_train = load_pickle(os.path.join(data_path, \"train.pkl\"))\n",
    "    X_valid, y_valid = load_pickle(os.path.join(data_path, \"valid.pkl\"))\n",
    "\n",
    "    def objective(params):\n",
    "        with mlflow.start_run():\n",
    "            mlflow.log_params(params)\n",
    "            \n",
    "            rf = RandomForestRegressor(**params)\n",
    "            rf.fit(X_train, y_train)\n",
    "            y_pred = rf.predict(X_valid)\n",
    "            rmse = mean_squared_error(y_valid, y_pred, squared=False)\n",
    "            \n",
    "            mlflow.log_metric(\"rmse\", rmse)\n",
    "            return {'loss': rmse, 'status': STATUS_OK}\n",
    "\n",
    "    search_space = {\n",
    "        'max_depth': scope.int(hp.quniform('max_depth', 1, 20, 1)),\n",
    "        'n_estimators': scope.int(hp.quniform('n_estimators', 10, 50, 1)),\n",
    "        'min_samples_split': scope.int(hp.quniform('min_samples_split', 2, 10, 1)),\n",
    "        'min_samples_leaf': scope.int(hp.quniform('min_samples_leaf', 1, 4, 1)),\n",
    "        'random_state': 42\n",
    "    }\n",
    "\n",
    "    rstate = np.random.default_rng(42)  # for reproducible results\n",
    "    fmin(\n",
    "        fn=objective,\n",
    "        space=search_space,\n",
    "        algo=tpe.suggest,\n",
    "        max_evals=num_trials,\n",
    "        trials=Trials(),\n",
    "        rstate=rstate\n",
    "    )"
   ]
  },
  {
   "cell_type": "code",
   "execution_count": 18,
   "id": "c9f16a7f",
   "metadata": {},
   "outputs": [
    {
     "name": "stdout",
     "output_type": "stream",
     "text": [
      "\r",
      "  0%|                                    | 0/50 [00:00<?, ?trial/s, best loss=?]"
     ]
    },
    {
     "name": "stderr",
     "output_type": "stream",
     "text": [
      "2022/05/29 23:44:37 WARNING mlflow.utils.autologging_utils: Encountered unexpected error during sklearn autologging: The following failures occurred while performing one or more logging operations: [MlflowException('Failed to perform one or more operations on the run with ID 21d6b25b2bf743678e91cc228d1920e9. Failed operations: [RestException(\"INVALID_PARAMETER_VALUE: Changing param values is not allowed. Params were already logged=\\'[{\\'key\\': \\'bootstrap\\', \\'old_value\\': None, \\'new_value\\': \\'True\\'}, {\\'key\\': \\'ccp_alpha\\', \\'old_value\\': None, \\'new_value\\': \\'0.0\\'}, {\\'key\\': \\'criterion\\', \\'old_value\\': None, \\'new_value\\': \\'squared_error\\'}, {\\'key\\': \\'max_features\\', \\'old_value\\': None, \\'new_value\\': \\'1.0\\'}, {\\'key\\': \\'max_leaf_nodes\\', \\'old_value\\': None, \\'new_value\\': \\'None\\'}, {\\'key\\': \\'max_samples\\', \\'old_value\\': None, \\'new_value\\': \\'None\\'}, {\\'key\\': \\'min_impurity_decrease\\', \\'old_value\\': None, \\'new_value\\': \\'0.0\\'}, {\\'key\\': \\'min_weight_fraction_leaf\\', \\'old_value\\': None, \\'new_value\\': \\'0.0\\'}, {\\'key\\': \\'n_jobs\\', \\'old_value\\': None, \\'new_value\\': \\'None\\'}, {\\'key\\': \\'oob_score\\', \\'old_value\\': None, \\'new_value\\': \\'False\\'}, {\\'key\\': \\'verbose\\', \\'old_value\\': None, \\'new_value\\': \\'0\\'}, {\\'key\\': \\'warm_start\\', \\'old_value\\': None, \\'new_value\\': \\'False\\'}]\\' for run ID=\\'21d6b25b2bf743678e91cc228d1920e9\\'.\")]')]\n",
      "\n"
     ]
    },
    {
     "name": "stdout",
     "output_type": "stream",
     "text": [
      "\r",
      "  2%|▏          | 1/50 [00:06<05:18,  6.51s/trial, best loss: 6.658956269343007]"
     ]
    },
    {
     "name": "stderr",
     "output_type": "stream",
     "text": [
      "2022/05/29 23:44:38 WARNING mlflow.utils.autologging_utils: Encountered unexpected error during sklearn autologging: The following failures occurred while performing one or more logging operations: [MlflowException('Failed to perform one or more operations on the run with ID ef90017fb3ce40e4b3a4e79b81dafb24. Failed operations: [RestException(\"INVALID_PARAMETER_VALUE: Changing param values is not allowed. Params were already logged=\\'[{\\'key\\': \\'bootstrap\\', \\'old_value\\': None, \\'new_value\\': \\'True\\'}, {\\'key\\': \\'ccp_alpha\\', \\'old_value\\': None, \\'new_value\\': \\'0.0\\'}, {\\'key\\': \\'criterion\\', \\'old_value\\': None, \\'new_value\\': \\'squared_error\\'}, {\\'key\\': \\'max_features\\', \\'old_value\\': None, \\'new_value\\': \\'1.0\\'}, {\\'key\\': \\'max_leaf_nodes\\', \\'old_value\\': None, \\'new_value\\': \\'None\\'}, {\\'key\\': \\'max_samples\\', \\'old_value\\': None, \\'new_value\\': \\'None\\'}, {\\'key\\': \\'min_impurity_decrease\\', \\'old_value\\': None, \\'new_value\\': \\'0.0\\'}, {\\'key\\': \\'min_weight_fraction_leaf\\', \\'old_value\\': None, \\'new_value\\': \\'0.0\\'}, {\\'key\\': \\'n_jobs\\', \\'old_value\\': None, \\'new_value\\': \\'None\\'}, {\\'key\\': \\'oob_score\\', \\'old_value\\': None, \\'new_value\\': \\'False\\'}, {\\'key\\': \\'verbose\\', \\'old_value\\': None, \\'new_value\\': \\'0\\'}, {\\'key\\': \\'warm_start\\', \\'old_value\\': None, \\'new_value\\': \\'False\\'}]\\' for run ID=\\'ef90017fb3ce40e4b3a4e79b81dafb24\\'.\")]')]\n",
      "\n"
     ]
    },
    {
     "name": "stdout",
     "output_type": "stream",
     "text": [
      "\r",
      "  4%|▍          | 2/50 [00:07<02:40,  3.34s/trial, best loss: 6.658956269343007]"
     ]
    },
    {
     "name": "stderr",
     "output_type": "stream",
     "text": [
      "2022/05/29 23:44:39 WARNING mlflow.utils.autologging_utils: Encountered unexpected error during sklearn autologging: The following failures occurred while performing one or more logging operations: [MlflowException('Failed to perform one or more operations on the run with ID b2c0e0664f714ab991f5b73fba19c6c8. Failed operations: [RestException(\"INVALID_PARAMETER_VALUE: Changing param values is not allowed. Params were already logged=\\'[{\\'key\\': \\'bootstrap\\', \\'old_value\\': None, \\'new_value\\': \\'True\\'}, {\\'key\\': \\'ccp_alpha\\', \\'old_value\\': None, \\'new_value\\': \\'0.0\\'}, {\\'key\\': \\'criterion\\', \\'old_value\\': None, \\'new_value\\': \\'squared_error\\'}, {\\'key\\': \\'max_features\\', \\'old_value\\': None, \\'new_value\\': \\'1.0\\'}, {\\'key\\': \\'max_leaf_nodes\\', \\'old_value\\': None, \\'new_value\\': \\'None\\'}, {\\'key\\': \\'max_samples\\', \\'old_value\\': None, \\'new_value\\': \\'None\\'}, {\\'key\\': \\'min_impurity_decrease\\', \\'old_value\\': None, \\'new_value\\': \\'0.0\\'}, {\\'key\\': \\'min_weight_fraction_leaf\\', \\'old_value\\': None, \\'new_value\\': \\'0.0\\'}, {\\'key\\': \\'n_jobs\\', \\'old_value\\': None, \\'new_value\\': \\'None\\'}, {\\'key\\': \\'oob_score\\', \\'old_value\\': None, \\'new_value\\': \\'False\\'}, {\\'key\\': \\'verbose\\', \\'old_value\\': None, \\'new_value\\': \\'0\\'}, {\\'key\\': \\'warm_start\\', \\'old_value\\': None, \\'new_value\\': \\'False\\'}]\\' for run ID=\\'b2c0e0664f714ab991f5b73fba19c6c8\\'.\")]')]\n",
      "\n"
     ]
    },
    {
     "name": "stdout",
     "output_type": "stream",
     "text": [
      "\r",
      "  6%|▋          | 3/50 [00:08<01:51,  2.38s/trial, best loss: 6.658956269343007]"
     ]
    },
    {
     "name": "stderr",
     "output_type": "stream",
     "text": [
      "2022/05/29 23:44:44 WARNING mlflow.utils.autologging_utils: Encountered unexpected error during sklearn autologging: The following failures occurred while performing one or more logging operations: [MlflowException('Failed to perform one or more operations on the run with ID 046a88bb21734cf7ad103ae54ec968df. Failed operations: [RestException(\"INVALID_PARAMETER_VALUE: Changing param values is not allowed. Params were already logged=\\'[{\\'key\\': \\'bootstrap\\', \\'old_value\\': None, \\'new_value\\': \\'True\\'}, {\\'key\\': \\'ccp_alpha\\', \\'old_value\\': None, \\'new_value\\': \\'0.0\\'}, {\\'key\\': \\'criterion\\', \\'old_value\\': None, \\'new_value\\': \\'squared_error\\'}, {\\'key\\': \\'max_features\\', \\'old_value\\': None, \\'new_value\\': \\'1.0\\'}, {\\'key\\': \\'max_leaf_nodes\\', \\'old_value\\': None, \\'new_value\\': \\'None\\'}, {\\'key\\': \\'max_samples\\', \\'old_value\\': None, \\'new_value\\': \\'None\\'}, {\\'key\\': \\'min_impurity_decrease\\', \\'old_value\\': None, \\'new_value\\': \\'0.0\\'}, {\\'key\\': \\'min_weight_fraction_leaf\\', \\'old_value\\': None, \\'new_value\\': \\'0.0\\'}, {\\'key\\': \\'n_jobs\\', \\'old_value\\': None, \\'new_value\\': \\'None\\'}, {\\'key\\': \\'oob_score\\', \\'old_value\\': None, \\'new_value\\': \\'False\\'}, {\\'key\\': \\'verbose\\', \\'old_value\\': None, \\'new_value\\': \\'0\\'}, {\\'key\\': \\'warm_start\\', \\'old_value\\': None, \\'new_value\\': \\'False\\'}]\\' for run ID=\\'046a88bb21734cf7ad103ae54ec968df\\'.\")]')]\n",
      "\n"
     ]
    },
    {
     "name": "stdout",
     "output_type": "stream",
     "text": [
      "\r",
      "  8%|▉          | 4/50 [00:13<02:24,  3.15s/trial, best loss: 6.651438559376775]"
     ]
    },
    {
     "name": "stderr",
     "output_type": "stream",
     "text": [
      "2022/05/29 23:44:46 WARNING mlflow.utils.autologging_utils: Encountered unexpected error during sklearn autologging: The following failures occurred while performing one or more logging operations: [MlflowException('Failed to perform one or more operations on the run with ID 6179b6dfd02240fa982d6cdf8b0718b1. Failed operations: [RestException(\"INVALID_PARAMETER_VALUE: Changing param values is not allowed. Params were already logged=\\'[{\\'key\\': \\'bootstrap\\', \\'old_value\\': None, \\'new_value\\': \\'True\\'}, {\\'key\\': \\'ccp_alpha\\', \\'old_value\\': None, \\'new_value\\': \\'0.0\\'}, {\\'key\\': \\'criterion\\', \\'old_value\\': None, \\'new_value\\': \\'squared_error\\'}, {\\'key\\': \\'max_features\\', \\'old_value\\': None, \\'new_value\\': \\'1.0\\'}, {\\'key\\': \\'max_leaf_nodes\\', \\'old_value\\': None, \\'new_value\\': \\'None\\'}, {\\'key\\': \\'max_samples\\', \\'old_value\\': None, \\'new_value\\': \\'None\\'}, {\\'key\\': \\'min_impurity_decrease\\', \\'old_value\\': None, \\'new_value\\': \\'0.0\\'}, {\\'key\\': \\'min_weight_fraction_leaf\\', \\'old_value\\': None, \\'new_value\\': \\'0.0\\'}, {\\'key\\': \\'n_jobs\\', \\'old_value\\': None, \\'new_value\\': \\'None\\'}, {\\'key\\': \\'oob_score\\', \\'old_value\\': None, \\'new_value\\': \\'False\\'}, {\\'key\\': \\'verbose\\', \\'old_value\\': None, \\'new_value\\': \\'0\\'}, {\\'key\\': \\'warm_start\\', \\'old_value\\': None, \\'new_value\\': \\'False\\'}]\\' for run ID=\\'6179b6dfd02240fa982d6cdf8b0718b1\\'.\")]')]\n",
      "\n"
     ]
    },
    {
     "name": "stdout",
     "output_type": "stream",
     "text": [
      "\r",
      " 10%|█          | 5/50 [00:15<02:13,  2.97s/trial, best loss: 6.651438559376775]"
     ]
    },
    {
     "name": "stderr",
     "output_type": "stream",
     "text": [
      "2022/05/29 23:44:53 WARNING mlflow.utils.autologging_utils: Encountered unexpected error during sklearn autologging: The following failures occurred while performing one or more logging operations: [MlflowException('Failed to perform one or more operations on the run with ID 024a58c4b1a0438ea606939902e2250c. Failed operations: [RestException(\"INVALID_PARAMETER_VALUE: Changing param values is not allowed. Params were already logged=\\'[{\\'key\\': \\'bootstrap\\', \\'old_value\\': None, \\'new_value\\': \\'True\\'}, {\\'key\\': \\'ccp_alpha\\', \\'old_value\\': None, \\'new_value\\': \\'0.0\\'}, {\\'key\\': \\'criterion\\', \\'old_value\\': None, \\'new_value\\': \\'squared_error\\'}, {\\'key\\': \\'max_features\\', \\'old_value\\': None, \\'new_value\\': \\'1.0\\'}, {\\'key\\': \\'max_leaf_nodes\\', \\'old_value\\': None, \\'new_value\\': \\'None\\'}, {\\'key\\': \\'max_samples\\', \\'old_value\\': None, \\'new_value\\': \\'None\\'}, {\\'key\\': \\'min_impurity_decrease\\', \\'old_value\\': None, \\'new_value\\': \\'0.0\\'}, {\\'key\\': \\'min_weight_fraction_leaf\\', \\'old_value\\': None, \\'new_value\\': \\'0.0\\'}, {\\'key\\': \\'n_jobs\\', \\'old_value\\': None, \\'new_value\\': \\'None\\'}, {\\'key\\': \\'oob_score\\', \\'old_value\\': None, \\'new_value\\': \\'False\\'}, {\\'key\\': \\'verbose\\', \\'old_value\\': None, \\'new_value\\': \\'0\\'}, {\\'key\\': \\'warm_start\\', \\'old_value\\': None, \\'new_value\\': \\'False\\'}]\\' for run ID=\\'024a58c4b1a0438ea606939902e2250c\\'.\")]')]\n",
      "\n"
     ]
    },
    {
     "name": "stdout",
     "output_type": "stream",
     "text": [
      "\r",
      " 12%|█▎         | 6/50 [00:22<03:08,  4.28s/trial, best loss: 6.651438559376775]"
     ]
    },
    {
     "name": "stderr",
     "output_type": "stream",
     "text": [
      "2022/05/29 23:44:59 WARNING mlflow.utils.autologging_utils: Encountered unexpected error during sklearn autologging: The following failures occurred while performing one or more logging operations: [MlflowException('Failed to perform one or more operations on the run with ID 4a877e341dea411fa465cee900a7f5ee. Failed operations: [RestException(\"INVALID_PARAMETER_VALUE: Changing param values is not allowed. Params were already logged=\\'[{\\'key\\': \\'bootstrap\\', \\'old_value\\': None, \\'new_value\\': \\'True\\'}, {\\'key\\': \\'ccp_alpha\\', \\'old_value\\': None, \\'new_value\\': \\'0.0\\'}, {\\'key\\': \\'criterion\\', \\'old_value\\': None, \\'new_value\\': \\'squared_error\\'}, {\\'key\\': \\'max_features\\', \\'old_value\\': None, \\'new_value\\': \\'1.0\\'}, {\\'key\\': \\'max_leaf_nodes\\', \\'old_value\\': None, \\'new_value\\': \\'None\\'}, {\\'key\\': \\'max_samples\\', \\'old_value\\': None, \\'new_value\\': \\'None\\'}, {\\'key\\': \\'min_impurity_decrease\\', \\'old_value\\': None, \\'new_value\\': \\'0.0\\'}, {\\'key\\': \\'min_weight_fraction_leaf\\', \\'old_value\\': None, \\'new_value\\': \\'0.0\\'}, {\\'key\\': \\'n_jobs\\', \\'old_value\\': None, \\'new_value\\': \\'None\\'}, {\\'key\\': \\'oob_score\\', \\'old_value\\': None, \\'new_value\\': \\'False\\'}, {\\'key\\': \\'verbose\\', \\'old_value\\': None, \\'new_value\\': \\'0\\'}, {\\'key\\': \\'warm_start\\', \\'old_value\\': None, \\'new_value\\': \\'False\\'}]\\' for run ID=\\'4a877e341dea411fa465cee900a7f5ee\\'.\")]')]\n",
      "\n"
     ]
    },
    {
     "name": "stdout",
     "output_type": "stream",
     "text": [
      "\r",
      " 14%|█▌         | 7/50 [00:29<03:34,  4.98s/trial, best loss: 6.651438559376775]"
     ]
    },
    {
     "name": "stderr",
     "output_type": "stream",
     "text": [
      "2022/05/29 23:45:05 WARNING mlflow.utils.autologging_utils: Encountered unexpected error during sklearn autologging: The following failures occurred while performing one or more logging operations: [MlflowException('Failed to perform one or more operations on the run with ID 09814a6bf70e451d93b3830fc9f12e33. Failed operations: [RestException(\"INVALID_PARAMETER_VALUE: Changing param values is not allowed. Params were already logged=\\'[{\\'key\\': \\'bootstrap\\', \\'old_value\\': None, \\'new_value\\': \\'True\\'}, {\\'key\\': \\'ccp_alpha\\', \\'old_value\\': None, \\'new_value\\': \\'0.0\\'}, {\\'key\\': \\'criterion\\', \\'old_value\\': None, \\'new_value\\': \\'squared_error\\'}, {\\'key\\': \\'max_features\\', \\'old_value\\': None, \\'new_value\\': \\'1.0\\'}, {\\'key\\': \\'max_leaf_nodes\\', \\'old_value\\': None, \\'new_value\\': \\'None\\'}, {\\'key\\': \\'max_samples\\', \\'old_value\\': None, \\'new_value\\': \\'None\\'}, {\\'key\\': \\'min_impurity_decrease\\', \\'old_value\\': None, \\'new_value\\': \\'0.0\\'}, {\\'key\\': \\'min_weight_fraction_leaf\\', \\'old_value\\': None, \\'new_value\\': \\'0.0\\'}, {\\'key\\': \\'n_jobs\\', \\'old_value\\': None, \\'new_value\\': \\'None\\'}, {\\'key\\': \\'oob_score\\', \\'old_value\\': None, \\'new_value\\': \\'False\\'}, {\\'key\\': \\'verbose\\', \\'old_value\\': None, \\'new_value\\': \\'0\\'}, {\\'key\\': \\'warm_start\\', \\'old_value\\': None, \\'new_value\\': \\'False\\'}]\\' for run ID=\\'09814a6bf70e451d93b3830fc9f12e33\\'.\")]')]\n",
      "\n"
     ]
    },
    {
     "name": "stdout",
     "output_type": "stream",
     "text": [
      "\r",
      " 16%|█▊         | 8/50 [00:34<03:33,  5.09s/trial, best loss: 6.651438559376775]"
     ]
    },
    {
     "name": "stderr",
     "output_type": "stream",
     "text": [
      "2022/05/29 23:45:09 WARNING mlflow.utils.autologging_utils: Encountered unexpected error during sklearn autologging: The following failures occurred while performing one or more logging operations: [MlflowException('Failed to perform one or more operations on the run with ID 706d72c14cc9495e98c1156629dd0f2d. Failed operations: [RestException(\"INVALID_PARAMETER_VALUE: Changing param values is not allowed. Params were already logged=\\'[{\\'key\\': \\'bootstrap\\', \\'old_value\\': None, \\'new_value\\': \\'True\\'}, {\\'key\\': \\'ccp_alpha\\', \\'old_value\\': None, \\'new_value\\': \\'0.0\\'}, {\\'key\\': \\'criterion\\', \\'old_value\\': None, \\'new_value\\': \\'squared_error\\'}, {\\'key\\': \\'max_features\\', \\'old_value\\': None, \\'new_value\\': \\'1.0\\'}, {\\'key\\': \\'max_leaf_nodes\\', \\'old_value\\': None, \\'new_value\\': \\'None\\'}, {\\'key\\': \\'max_samples\\', \\'old_value\\': None, \\'new_value\\': \\'None\\'}, {\\'key\\': \\'min_impurity_decrease\\', \\'old_value\\': None, \\'new_value\\': \\'0.0\\'}, {\\'key\\': \\'min_weight_fraction_leaf\\', \\'old_value\\': None, \\'new_value\\': \\'0.0\\'}, {\\'key\\': \\'n_jobs\\', \\'old_value\\': None, \\'new_value\\': \\'None\\'}, {\\'key\\': \\'oob_score\\', \\'old_value\\': None, \\'new_value\\': \\'False\\'}, {\\'key\\': \\'verbose\\', \\'old_value\\': None, \\'new_value\\': \\'0\\'}, {\\'key\\': \\'warm_start\\', \\'old_value\\': None, \\'new_value\\': \\'False\\'}]\\' for run ID=\\'706d72c14cc9495e98c1156629dd0f2d\\'.\")]')]\n",
      "\n"
     ]
    },
    {
     "name": "stdout",
     "output_type": "stream",
     "text": [
      "\r",
      " 18%|█▉         | 9/50 [00:38<03:21,  4.92s/trial, best loss: 6.651438559376775]"
     ]
    },
    {
     "name": "stderr",
     "output_type": "stream",
     "text": [
      "2022/05/29 23:45:13 WARNING mlflow.utils.autologging_utils: Encountered unexpected error during sklearn autologging: The following failures occurred while performing one or more logging operations: [MlflowException('Failed to perform one or more operations on the run with ID 565ffff38bbd459bb6090e5c1e372438. Failed operations: [RestException(\"INVALID_PARAMETER_VALUE: Changing param values is not allowed. Params were already logged=\\'[{\\'key\\': \\'bootstrap\\', \\'old_value\\': None, \\'new_value\\': \\'True\\'}, {\\'key\\': \\'ccp_alpha\\', \\'old_value\\': None, \\'new_value\\': \\'0.0\\'}, {\\'key\\': \\'criterion\\', \\'old_value\\': None, \\'new_value\\': \\'squared_error\\'}, {\\'key\\': \\'max_features\\', \\'old_value\\': None, \\'new_value\\': \\'1.0\\'}, {\\'key\\': \\'max_leaf_nodes\\', \\'old_value\\': None, \\'new_value\\': \\'None\\'}, {\\'key\\': \\'max_samples\\', \\'old_value\\': None, \\'new_value\\': \\'None\\'}, {\\'key\\': \\'min_impurity_decrease\\', \\'old_value\\': None, \\'new_value\\': \\'0.0\\'}, {\\'key\\': \\'min_weight_fraction_leaf\\', \\'old_value\\': None, \\'new_value\\': \\'0.0\\'}, {\\'key\\': \\'n_jobs\\', \\'old_value\\': None, \\'new_value\\': \\'None\\'}, {\\'key\\': \\'oob_score\\', \\'old_value\\': None, \\'new_value\\': \\'False\\'}, {\\'key\\': \\'verbose\\', \\'old_value\\': None, \\'new_value\\': \\'0\\'}, {\\'key\\': \\'warm_start\\', \\'old_value\\': None, \\'new_value\\': \\'False\\'}]\\' for run ID=\\'565ffff38bbd459bb6090e5c1e372438\\'.\")]')]\n",
      "\n"
     ]
    },
    {
     "name": "stdout",
     "output_type": "stream",
     "text": [
      "\r",
      " 20%|██        | 10/50 [00:42<03:01,  4.54s/trial, best loss: 6.651438559376775]"
     ]
    },
    {
     "name": "stderr",
     "output_type": "stream",
     "text": [
      "2022/05/29 23:45:17 WARNING mlflow.utils.autologging_utils: Encountered unexpected error during sklearn autologging: The following failures occurred while performing one or more logging operations: [MlflowException('Failed to perform one or more operations on the run with ID 0576a8373f034306b83be8805e98e8f8. Failed operations: [RestException(\"INVALID_PARAMETER_VALUE: Changing param values is not allowed. Params were already logged=\\'[{\\'key\\': \\'bootstrap\\', \\'old_value\\': None, \\'new_value\\': \\'True\\'}, {\\'key\\': \\'ccp_alpha\\', \\'old_value\\': None, \\'new_value\\': \\'0.0\\'}, {\\'key\\': \\'criterion\\', \\'old_value\\': None, \\'new_value\\': \\'squared_error\\'}, {\\'key\\': \\'max_features\\', \\'old_value\\': None, \\'new_value\\': \\'1.0\\'}, {\\'key\\': \\'max_leaf_nodes\\', \\'old_value\\': None, \\'new_value\\': \\'None\\'}, {\\'key\\': \\'max_samples\\', \\'old_value\\': None, \\'new_value\\': \\'None\\'}, {\\'key\\': \\'min_impurity_decrease\\', \\'old_value\\': None, \\'new_value\\': \\'0.0\\'}, {\\'key\\': \\'min_weight_fraction_leaf\\', \\'old_value\\': None, \\'new_value\\': \\'0.0\\'}, {\\'key\\': \\'n_jobs\\', \\'old_value\\': None, \\'new_value\\': \\'None\\'}, {\\'key\\': \\'oob_score\\', \\'old_value\\': None, \\'new_value\\': \\'False\\'}, {\\'key\\': \\'verbose\\', \\'old_value\\': None, \\'new_value\\': \\'0\\'}, {\\'key\\': \\'warm_start\\', \\'old_value\\': None, \\'new_value\\': \\'False\\'}]\\' for run ID=\\'0576a8373f034306b83be8805e98e8f8\\'.\")]')]\n",
      "\n"
     ]
    },
    {
     "name": "stdout",
     "output_type": "stream",
     "text": [
      "\r",
      " 22%|██▏       | 11/50 [00:46<02:46,  4.26s/trial, best loss: 6.642137287429206]"
     ]
    },
    {
     "name": "stderr",
     "output_type": "stream",
     "text": [
      "2022/05/29 23:45:20 WARNING mlflow.utils.autologging_utils: Encountered unexpected error during sklearn autologging: The following failures occurred while performing one or more logging operations: [MlflowException('Failed to perform one or more operations on the run with ID 14a81d683ecf459eadf58b503533d9d4. Failed operations: [RestException(\"INVALID_PARAMETER_VALUE: Changing param values is not allowed. Params were already logged=\\'[{\\'key\\': \\'bootstrap\\', \\'old_value\\': None, \\'new_value\\': \\'True\\'}, {\\'key\\': \\'ccp_alpha\\', \\'old_value\\': None, \\'new_value\\': \\'0.0\\'}, {\\'key\\': \\'criterion\\', \\'old_value\\': None, \\'new_value\\': \\'squared_error\\'}, {\\'key\\': \\'max_features\\', \\'old_value\\': None, \\'new_value\\': \\'1.0\\'}, {\\'key\\': \\'max_leaf_nodes\\', \\'old_value\\': None, \\'new_value\\': \\'None\\'}, {\\'key\\': \\'max_samples\\', \\'old_value\\': None, \\'new_value\\': \\'None\\'}, {\\'key\\': \\'min_impurity_decrease\\', \\'old_value\\': None, \\'new_value\\': \\'0.0\\'}, {\\'key\\': \\'min_weight_fraction_leaf\\', \\'old_value\\': None, \\'new_value\\': \\'0.0\\'}, {\\'key\\': \\'n_jobs\\', \\'old_value\\': None, \\'new_value\\': \\'None\\'}, {\\'key\\': \\'oob_score\\', \\'old_value\\': None, \\'new_value\\': \\'False\\'}, {\\'key\\': \\'verbose\\', \\'old_value\\': None, \\'new_value\\': \\'0\\'}, {\\'key\\': \\'warm_start\\', \\'old_value\\': None, \\'new_value\\': \\'False\\'}]\\' for run ID=\\'14a81d683ecf459eadf58b503533d9d4\\'.\")]')]\n",
      "\n"
     ]
    },
    {
     "name": "stdout",
     "output_type": "stream",
     "text": [
      "\r",
      " 24%|██▍       | 12/50 [00:49<02:26,  3.87s/trial, best loss: 6.642137287429206]"
     ]
    },
    {
     "name": "stderr",
     "output_type": "stream",
     "text": [
      "2022/05/29 23:45:21 WARNING mlflow.utils.autologging_utils: Encountered unexpected error during sklearn autologging: The following failures occurred while performing one or more logging operations: [MlflowException('Failed to perform one or more operations on the run with ID ea8cd91a591e40ea8b916af4b9486fdf. Failed operations: [RestException(\"INVALID_PARAMETER_VALUE: Changing param values is not allowed. Params were already logged=\\'[{\\'key\\': \\'bootstrap\\', \\'old_value\\': None, \\'new_value\\': \\'True\\'}, {\\'key\\': \\'ccp_alpha\\', \\'old_value\\': None, \\'new_value\\': \\'0.0\\'}, {\\'key\\': \\'criterion\\', \\'old_value\\': None, \\'new_value\\': \\'squared_error\\'}, {\\'key\\': \\'max_features\\', \\'old_value\\': None, \\'new_value\\': \\'1.0\\'}, {\\'key\\': \\'max_leaf_nodes\\', \\'old_value\\': None, \\'new_value\\': \\'None\\'}, {\\'key\\': \\'max_samples\\', \\'old_value\\': None, \\'new_value\\': \\'None\\'}, {\\'key\\': \\'min_impurity_decrease\\', \\'old_value\\': None, \\'new_value\\': \\'0.0\\'}, {\\'key\\': \\'min_weight_fraction_leaf\\', \\'old_value\\': None, \\'new_value\\': \\'0.0\\'}, {\\'key\\': \\'n_jobs\\', \\'old_value\\': None, \\'new_value\\': \\'None\\'}, {\\'key\\': \\'oob_score\\', \\'old_value\\': None, \\'new_value\\': \\'False\\'}, {\\'key\\': \\'verbose\\', \\'old_value\\': None, \\'new_value\\': \\'0\\'}, {\\'key\\': \\'warm_start\\', \\'old_value\\': None, \\'new_value\\': \\'False\\'}]\\' for run ID=\\'ea8cd91a591e40ea8b916af4b9486fdf\\'.\")]')]\n",
      "\n"
     ]
    },
    {
     "name": "stdout",
     "output_type": "stream",
     "text": [
      "\r",
      " 26%|██▌       | 13/50 [00:50<01:57,  3.17s/trial, best loss: 6.642137287429206]"
     ]
    },
    {
     "name": "stderr",
     "output_type": "stream",
     "text": [
      "2022/05/29 23:45:24 WARNING mlflow.utils.autologging_utils: Encountered unexpected error during sklearn autologging: The following failures occurred while performing one or more logging operations: [MlflowException('Failed to perform one or more operations on the run with ID f4f5044677e848298ac10b09b8a4502c. Failed operations: [RestException(\"INVALID_PARAMETER_VALUE: Changing param values is not allowed. Params were already logged=\\'[{\\'key\\': \\'bootstrap\\', \\'old_value\\': None, \\'new_value\\': \\'True\\'}, {\\'key\\': \\'ccp_alpha\\', \\'old_value\\': None, \\'new_value\\': \\'0.0\\'}, {\\'key\\': \\'criterion\\', \\'old_value\\': None, \\'new_value\\': \\'squared_error\\'}, {\\'key\\': \\'max_features\\', \\'old_value\\': None, \\'new_value\\': \\'1.0\\'}, {\\'key\\': \\'max_leaf_nodes\\', \\'old_value\\': None, \\'new_value\\': \\'None\\'}, {\\'key\\': \\'max_samples\\', \\'old_value\\': None, \\'new_value\\': \\'None\\'}, {\\'key\\': \\'min_impurity_decrease\\', \\'old_value\\': None, \\'new_value\\': \\'0.0\\'}, {\\'key\\': \\'min_weight_fraction_leaf\\', \\'old_value\\': None, \\'new_value\\': \\'0.0\\'}, {\\'key\\': \\'n_jobs\\', \\'old_value\\': None, \\'new_value\\': \\'None\\'}, {\\'key\\': \\'oob_score\\', \\'old_value\\': None, \\'new_value\\': \\'False\\'}, {\\'key\\': \\'verbose\\', \\'old_value\\': None, \\'new_value\\': \\'0\\'}, {\\'key\\': \\'warm_start\\', \\'old_value\\': None, \\'new_value\\': \\'False\\'}]\\' for run ID=\\'f4f5044677e848298ac10b09b8a4502c\\'.\")]')]\n",
      "\n"
     ]
    },
    {
     "name": "stdout",
     "output_type": "stream",
     "text": [
      "\r",
      " 28%|██▊       | 14/50 [00:53<01:52,  3.12s/trial, best loss: 6.642137287429206]"
     ]
    },
    {
     "name": "stderr",
     "output_type": "stream",
     "text": [
      "2022/05/29 23:45:28 WARNING mlflow.utils.autologging_utils: Encountered unexpected error during sklearn autologging: The following failures occurred while performing one or more logging operations: [MlflowException('Failed to perform one or more operations on the run with ID 058763ff168347b8babcba0216f6ba28. Failed operations: [RestException(\"INVALID_PARAMETER_VALUE: Changing param values is not allowed. Params were already logged=\\'[{\\'key\\': \\'bootstrap\\', \\'old_value\\': None, \\'new_value\\': \\'True\\'}, {\\'key\\': \\'ccp_alpha\\', \\'old_value\\': None, \\'new_value\\': \\'0.0\\'}, {\\'key\\': \\'criterion\\', \\'old_value\\': None, \\'new_value\\': \\'squared_error\\'}, {\\'key\\': \\'max_features\\', \\'old_value\\': None, \\'new_value\\': \\'1.0\\'}, {\\'key\\': \\'max_leaf_nodes\\', \\'old_value\\': None, \\'new_value\\': \\'None\\'}, {\\'key\\': \\'max_samples\\', \\'old_value\\': None, \\'new_value\\': \\'None\\'}, {\\'key\\': \\'min_impurity_decrease\\', \\'old_value\\': None, \\'new_value\\': \\'0.0\\'}, {\\'key\\': \\'min_weight_fraction_leaf\\', \\'old_value\\': None, \\'new_value\\': \\'0.0\\'}, {\\'key\\': \\'n_jobs\\', \\'old_value\\': None, \\'new_value\\': \\'None\\'}, {\\'key\\': \\'oob_score\\', \\'old_value\\': None, \\'new_value\\': \\'False\\'}, {\\'key\\': \\'verbose\\', \\'old_value\\': None, \\'new_value\\': \\'0\\'}, {\\'key\\': \\'warm_start\\', \\'old_value\\': None, \\'new_value\\': \\'False\\'}]\\' for run ID=\\'058763ff168347b8babcba0216f6ba28\\'.\")]')]\n",
      "\n"
     ]
    },
    {
     "name": "stdout",
     "output_type": "stream",
     "text": [
      "\r",
      " 30%|███       | 15/50 [00:57<01:58,  3.40s/trial, best loss: 6.642137287429206]"
     ]
    },
    {
     "name": "stderr",
     "output_type": "stream",
     "text": [
      "2022/05/29 23:45:31 WARNING mlflow.utils.autologging_utils: Encountered unexpected error during sklearn autologging: The following failures occurred while performing one or more logging operations: [MlflowException('Failed to perform one or more operations on the run with ID df97f5bcfaa5494a9c6cbe3a6efd70f7. Failed operations: [RestException(\"INVALID_PARAMETER_VALUE: Changing param values is not allowed. Params were already logged=\\'[{\\'key\\': \\'bootstrap\\', \\'old_value\\': None, \\'new_value\\': \\'True\\'}, {\\'key\\': \\'ccp_alpha\\', \\'old_value\\': None, \\'new_value\\': \\'0.0\\'}, {\\'key\\': \\'criterion\\', \\'old_value\\': None, \\'new_value\\': \\'squared_error\\'}, {\\'key\\': \\'max_features\\', \\'old_value\\': None, \\'new_value\\': \\'1.0\\'}, {\\'key\\': \\'max_leaf_nodes\\', \\'old_value\\': None, \\'new_value\\': \\'None\\'}, {\\'key\\': \\'max_samples\\', \\'old_value\\': None, \\'new_value\\': \\'None\\'}, {\\'key\\': \\'min_impurity_decrease\\', \\'old_value\\': None, \\'new_value\\': \\'0.0\\'}, {\\'key\\': \\'min_weight_fraction_leaf\\', \\'old_value\\': None, \\'new_value\\': \\'0.0\\'}, {\\'key\\': \\'n_jobs\\', \\'old_value\\': None, \\'new_value\\': \\'None\\'}, {\\'key\\': \\'oob_score\\', \\'old_value\\': None, \\'new_value\\': \\'False\\'}, {\\'key\\': \\'verbose\\', \\'old_value\\': None, \\'new_value\\': \\'0\\'}, {\\'key\\': \\'warm_start\\', \\'old_value\\': None, \\'new_value\\': \\'False\\'}]\\' for run ID=\\'df97f5bcfaa5494a9c6cbe3a6efd70f7\\'.\")]')]\n",
      "\n"
     ]
    },
    {
     "name": "stdout",
     "output_type": "stream",
     "text": [
      "\r",
      " 32%|███▏      | 16/50 [01:01<01:52,  3.32s/trial, best loss: 6.642137287429206]"
     ]
    },
    {
     "name": "stderr",
     "output_type": "stream",
     "text": [
      "2022/05/29 23:45:36 WARNING mlflow.utils.autologging_utils: Encountered unexpected error during sklearn autologging: The following failures occurred while performing one or more logging operations: [MlflowException('Failed to perform one or more operations on the run with ID 91c8f0b4eb384179975070fefaf4cd98. Failed operations: [RestException(\"INVALID_PARAMETER_VALUE: Changing param values is not allowed. Params were already logged=\\'[{\\'key\\': \\'bootstrap\\', \\'old_value\\': None, \\'new_value\\': \\'True\\'}, {\\'key\\': \\'ccp_alpha\\', \\'old_value\\': None, \\'new_value\\': \\'0.0\\'}, {\\'key\\': \\'criterion\\', \\'old_value\\': None, \\'new_value\\': \\'squared_error\\'}, {\\'key\\': \\'max_features\\', \\'old_value\\': None, \\'new_value\\': \\'1.0\\'}, {\\'key\\': \\'max_leaf_nodes\\', \\'old_value\\': None, \\'new_value\\': \\'None\\'}, {\\'key\\': \\'max_samples\\', \\'old_value\\': None, \\'new_value\\': \\'None\\'}, {\\'key\\': \\'min_impurity_decrease\\', \\'old_value\\': None, \\'new_value\\': \\'0.0\\'}, {\\'key\\': \\'min_weight_fraction_leaf\\', \\'old_value\\': None, \\'new_value\\': \\'0.0\\'}, {\\'key\\': \\'n_jobs\\', \\'old_value\\': None, \\'new_value\\': \\'None\\'}, {\\'key\\': \\'oob_score\\', \\'old_value\\': None, \\'new_value\\': \\'False\\'}, {\\'key\\': \\'verbose\\', \\'old_value\\': None, \\'new_value\\': \\'0\\'}, {\\'key\\': \\'warm_start\\', \\'old_value\\': None, \\'new_value\\': \\'False\\'}]\\' for run ID=\\'91c8f0b4eb384179975070fefaf4cd98\\'.\")]')]\n",
      "\n"
     ]
    },
    {
     "name": "stdout",
     "output_type": "stream",
     "text": [
      "\r",
      " 34%|███▍      | 17/50 [01:05<02:00,  3.65s/trial, best loss: 6.642137287429206]"
     ]
    },
    {
     "name": "stderr",
     "output_type": "stream",
     "text": [
      "2022/05/29 23:45:42 WARNING mlflow.utils.autologging_utils: Encountered unexpected error during sklearn autologging: The following failures occurred while performing one or more logging operations: [MlflowException('Failed to perform one or more operations on the run with ID 58aedef0075249fa858907c14c6fbcad. Failed operations: [RestException(\"INVALID_PARAMETER_VALUE: Changing param values is not allowed. Params were already logged=\\'[{\\'key\\': \\'bootstrap\\', \\'old_value\\': None, \\'new_value\\': \\'True\\'}, {\\'key\\': \\'ccp_alpha\\', \\'old_value\\': None, \\'new_value\\': \\'0.0\\'}, {\\'key\\': \\'criterion\\', \\'old_value\\': None, \\'new_value\\': \\'squared_error\\'}, {\\'key\\': \\'max_features\\', \\'old_value\\': None, \\'new_value\\': \\'1.0\\'}, {\\'key\\': \\'max_leaf_nodes\\', \\'old_value\\': None, \\'new_value\\': \\'None\\'}, {\\'key\\': \\'max_samples\\', \\'old_value\\': None, \\'new_value\\': \\'None\\'}, {\\'key\\': \\'min_impurity_decrease\\', \\'old_value\\': None, \\'new_value\\': \\'0.0\\'}, {\\'key\\': \\'min_weight_fraction_leaf\\', \\'old_value\\': None, \\'new_value\\': \\'0.0\\'}, {\\'key\\': \\'n_jobs\\', \\'old_value\\': None, \\'new_value\\': \\'None\\'}, {\\'key\\': \\'oob_score\\', \\'old_value\\': None, \\'new_value\\': \\'False\\'}, {\\'key\\': \\'verbose\\', \\'old_value\\': None, \\'new_value\\': \\'0\\'}, {\\'key\\': \\'warm_start\\', \\'old_value\\': None, \\'new_value\\': \\'False\\'}]\\' for run ID=\\'58aedef0075249fa858907c14c6fbcad\\'.\")]')]\n",
      "\n"
     ]
    },
    {
     "name": "stdout",
     "output_type": "stream",
     "text": [
      "\r",
      " 36%|███▌      | 18/50 [01:11<02:19,  4.36s/trial, best loss: 6.629728007710133]"
     ]
    },
    {
     "name": "stderr",
     "output_type": "stream",
     "text": [
      "2022/05/29 23:45:44 WARNING mlflow.utils.autologging_utils: Encountered unexpected error during sklearn autologging: The following failures occurred while performing one or more logging operations: [MlflowException('Failed to perform one or more operations on the run with ID da68c352e1be4e6b9e4dcb2960ba9a48. Failed operations: [RestException(\"INVALID_PARAMETER_VALUE: Changing param values is not allowed. Params were already logged=\\'[{\\'key\\': \\'bootstrap\\', \\'old_value\\': None, \\'new_value\\': \\'True\\'}, {\\'key\\': \\'ccp_alpha\\', \\'old_value\\': None, \\'new_value\\': \\'0.0\\'}, {\\'key\\': \\'criterion\\', \\'old_value\\': None, \\'new_value\\': \\'squared_error\\'}, {\\'key\\': \\'max_features\\', \\'old_value\\': None, \\'new_value\\': \\'1.0\\'}, {\\'key\\': \\'max_leaf_nodes\\', \\'old_value\\': None, \\'new_value\\': \\'None\\'}, {\\'key\\': \\'max_samples\\', \\'old_value\\': None, \\'new_value\\': \\'None\\'}, {\\'key\\': \\'min_impurity_decrease\\', \\'old_value\\': None, \\'new_value\\': \\'0.0\\'}, {\\'key\\': \\'min_weight_fraction_leaf\\', \\'old_value\\': None, \\'new_value\\': \\'0.0\\'}, {\\'key\\': \\'n_jobs\\', \\'old_value\\': None, \\'new_value\\': \\'None\\'}, {\\'key\\': \\'oob_score\\', \\'old_value\\': None, \\'new_value\\': \\'False\\'}, {\\'key\\': \\'verbose\\', \\'old_value\\': None, \\'new_value\\': \\'0\\'}, {\\'key\\': \\'warm_start\\', \\'old_value\\': None, \\'new_value\\': \\'False\\'}]\\' for run ID=\\'da68c352e1be4e6b9e4dcb2960ba9a48\\'.\")]')]\n",
      "\n"
     ]
    },
    {
     "name": "stdout",
     "output_type": "stream",
     "text": [
      "\r",
      " 38%|███▊      | 19/50 [01:13<01:54,  3.70s/trial, best loss: 6.629728007710133]"
     ]
    },
    {
     "name": "stderr",
     "output_type": "stream",
     "text": [
      "2022/05/29 23:45:46 WARNING mlflow.utils.autologging_utils: Encountered unexpected error during sklearn autologging: The following failures occurred while performing one or more logging operations: [MlflowException('Failed to perform one or more operations on the run with ID 7f3d862720d24e6e9a62c2513b9203f8. Failed operations: [RestException(\"INVALID_PARAMETER_VALUE: Changing param values is not allowed. Params were already logged=\\'[{\\'key\\': \\'bootstrap\\', \\'old_value\\': None, \\'new_value\\': \\'True\\'}, {\\'key\\': \\'ccp_alpha\\', \\'old_value\\': None, \\'new_value\\': \\'0.0\\'}, {\\'key\\': \\'criterion\\', \\'old_value\\': None, \\'new_value\\': \\'squared_error\\'}, {\\'key\\': \\'max_features\\', \\'old_value\\': None, \\'new_value\\': \\'1.0\\'}, {\\'key\\': \\'max_leaf_nodes\\', \\'old_value\\': None, \\'new_value\\': \\'None\\'}, {\\'key\\': \\'max_samples\\', \\'old_value\\': None, \\'new_value\\': \\'None\\'}, {\\'key\\': \\'min_impurity_decrease\\', \\'old_value\\': None, \\'new_value\\': \\'0.0\\'}, {\\'key\\': \\'min_weight_fraction_leaf\\', \\'old_value\\': None, \\'new_value\\': \\'0.0\\'}, {\\'key\\': \\'n_jobs\\', \\'old_value\\': None, \\'new_value\\': \\'None\\'}, {\\'key\\': \\'oob_score\\', \\'old_value\\': None, \\'new_value\\': \\'False\\'}, {\\'key\\': \\'verbose\\', \\'old_value\\': None, \\'new_value\\': \\'0\\'}, {\\'key\\': \\'warm_start\\', \\'old_value\\': None, \\'new_value\\': \\'False\\'}]\\' for run ID=\\'7f3d862720d24e6e9a62c2513b9203f8\\'.\")]')]\n",
      "\n"
     ]
    },
    {
     "name": "stdout",
     "output_type": "stream",
     "text": [
      "\r",
      " 40%|████      | 20/50 [01:15<01:34,  3.14s/trial, best loss: 6.629728007710133]"
     ]
    },
    {
     "name": "stderr",
     "output_type": "stream",
     "text": [
      "2022/05/29 23:45:54 WARNING mlflow.utils.autologging_utils: Encountered unexpected error during sklearn autologging: The following failures occurred while performing one or more logging operations: [MlflowException('Failed to perform one or more operations on the run with ID 38922c85972b4edbb849f9e64cda1087. Failed operations: [RestException(\"INVALID_PARAMETER_VALUE: Changing param values is not allowed. Params were already logged=\\'[{\\'key\\': \\'bootstrap\\', \\'old_value\\': None, \\'new_value\\': \\'True\\'}, {\\'key\\': \\'ccp_alpha\\', \\'old_value\\': None, \\'new_value\\': \\'0.0\\'}, {\\'key\\': \\'criterion\\', \\'old_value\\': None, \\'new_value\\': \\'squared_error\\'}, {\\'key\\': \\'max_features\\', \\'old_value\\': None, \\'new_value\\': \\'1.0\\'}, {\\'key\\': \\'max_leaf_nodes\\', \\'old_value\\': None, \\'new_value\\': \\'None\\'}, {\\'key\\': \\'max_samples\\', \\'old_value\\': None, \\'new_value\\': \\'None\\'}, {\\'key\\': \\'min_impurity_decrease\\', \\'old_value\\': None, \\'new_value\\': \\'0.0\\'}, {\\'key\\': \\'min_weight_fraction_leaf\\', \\'old_value\\': None, \\'new_value\\': \\'0.0\\'}, {\\'key\\': \\'n_jobs\\', \\'old_value\\': None, \\'new_value\\': \\'None\\'}, {\\'key\\': \\'oob_score\\', \\'old_value\\': None, \\'new_value\\': \\'False\\'}, {\\'key\\': \\'verbose\\', \\'old_value\\': None, \\'new_value\\': \\'0\\'}, {\\'key\\': \\'warm_start\\', \\'old_value\\': None, \\'new_value\\': \\'False\\'}]\\' for run ID=\\'38922c85972b4edbb849f9e64cda1087\\'.\")]')]\n",
      "\n"
     ]
    },
    {
     "name": "stdout",
     "output_type": "stream",
     "text": [
      "\r",
      " 42%|████▏     | 21/50 [01:23<02:15,  4.67s/trial, best loss: 6.629728007710133]"
     ]
    },
    {
     "name": "stderr",
     "output_type": "stream",
     "text": [
      "2022/05/29 23:46:00 WARNING mlflow.utils.autologging_utils: Encountered unexpected error during sklearn autologging: The following failures occurred while performing one or more logging operations: [MlflowException('Failed to perform one or more operations on the run with ID 2ce2f080a2244ae1ba5efb13f588679f. Failed operations: [RestException(\"INVALID_PARAMETER_VALUE: Changing param values is not allowed. Params were already logged=\\'[{\\'key\\': \\'bootstrap\\', \\'old_value\\': None, \\'new_value\\': \\'True\\'}, {\\'key\\': \\'ccp_alpha\\', \\'old_value\\': None, \\'new_value\\': \\'0.0\\'}, {\\'key\\': \\'criterion\\', \\'old_value\\': None, \\'new_value\\': \\'squared_error\\'}, {\\'key\\': \\'max_features\\', \\'old_value\\': None, \\'new_value\\': \\'1.0\\'}, {\\'key\\': \\'max_leaf_nodes\\', \\'old_value\\': None, \\'new_value\\': \\'None\\'}, {\\'key\\': \\'max_samples\\', \\'old_value\\': None, \\'new_value\\': \\'None\\'}, {\\'key\\': \\'min_impurity_decrease\\', \\'old_value\\': None, \\'new_value\\': \\'0.0\\'}, {\\'key\\': \\'min_weight_fraction_leaf\\', \\'old_value\\': None, \\'new_value\\': \\'0.0\\'}, {\\'key\\': \\'n_jobs\\', \\'old_value\\': None, \\'new_value\\': \\'None\\'}, {\\'key\\': \\'oob_score\\', \\'old_value\\': None, \\'new_value\\': \\'False\\'}, {\\'key\\': \\'verbose\\', \\'old_value\\': None, \\'new_value\\': \\'0\\'}, {\\'key\\': \\'warm_start\\', \\'old_value\\': None, \\'new_value\\': \\'False\\'}]\\' for run ID=\\'2ce2f080a2244ae1ba5efb13f588679f\\'.\")]')]\n",
      "\n"
     ]
    },
    {
     "name": "stdout",
     "output_type": "stream",
     "text": [
      "\r",
      " 44%|████▍     | 22/50 [01:30<02:26,  5.21s/trial, best loss: 6.629728007710133]"
     ]
    },
    {
     "name": "stderr",
     "output_type": "stream",
     "text": [
      "2022/05/29 23:46:10 WARNING mlflow.utils.autologging_utils: Encountered unexpected error during sklearn autologging: The following failures occurred while performing one or more logging operations: [MlflowException('Failed to perform one or more operations on the run with ID 8cf7f99992fd413b9f19bc8a41a60683. Failed operations: [RestException(\"INVALID_PARAMETER_VALUE: Changing param values is not allowed. Params were already logged=\\'[{\\'key\\': \\'bootstrap\\', \\'old_value\\': None, \\'new_value\\': \\'True\\'}, {\\'key\\': \\'ccp_alpha\\', \\'old_value\\': None, \\'new_value\\': \\'0.0\\'}, {\\'key\\': \\'criterion\\', \\'old_value\\': None, \\'new_value\\': \\'squared_error\\'}, {\\'key\\': \\'max_features\\', \\'old_value\\': None, \\'new_value\\': \\'1.0\\'}, {\\'key\\': \\'max_leaf_nodes\\', \\'old_value\\': None, \\'new_value\\': \\'None\\'}, {\\'key\\': \\'max_samples\\', \\'old_value\\': None, \\'new_value\\': \\'None\\'}, {\\'key\\': \\'min_impurity_decrease\\', \\'old_value\\': None, \\'new_value\\': \\'0.0\\'}, {\\'key\\': \\'min_weight_fraction_leaf\\', \\'old_value\\': None, \\'new_value\\': \\'0.0\\'}, {\\'key\\': \\'n_jobs\\', \\'old_value\\': None, \\'new_value\\': \\'None\\'}, {\\'key\\': \\'oob_score\\', \\'old_value\\': None, \\'new_value\\': \\'False\\'}, {\\'key\\': \\'verbose\\', \\'old_value\\': None, \\'new_value\\': \\'0\\'}, {\\'key\\': \\'warm_start\\', \\'old_value\\': None, \\'new_value\\': \\'False\\'}]\\' for run ID=\\'8cf7f99992fd413b9f19bc8a41a60683\\'.\")]')]\n",
      "\n"
     ]
    },
    {
     "name": "stdout",
     "output_type": "stream",
     "text": [
      "\r",
      " 46%|████▌     | 23/50 [01:39<02:57,  6.57s/trial, best loss: 6.629728007710133]"
     ]
    },
    {
     "name": "stderr",
     "output_type": "stream",
     "text": [
      "2022/05/29 23:46:19 WARNING mlflow.utils.autologging_utils: Encountered unexpected error during sklearn autologging: The following failures occurred while performing one or more logging operations: [MlflowException('Failed to perform one or more operations on the run with ID 7283c1c795954166bbe4fba08009ec32. Failed operations: [RestException(\"INVALID_PARAMETER_VALUE: Changing param values is not allowed. Params were already logged=\\'[{\\'key\\': \\'bootstrap\\', \\'old_value\\': None, \\'new_value\\': \\'True\\'}, {\\'key\\': \\'ccp_alpha\\', \\'old_value\\': None, \\'new_value\\': \\'0.0\\'}, {\\'key\\': \\'criterion\\', \\'old_value\\': None, \\'new_value\\': \\'squared_error\\'}, {\\'key\\': \\'max_features\\', \\'old_value\\': None, \\'new_value\\': \\'1.0\\'}, {\\'key\\': \\'max_leaf_nodes\\', \\'old_value\\': None, \\'new_value\\': \\'None\\'}, {\\'key\\': \\'max_samples\\', \\'old_value\\': None, \\'new_value\\': \\'None\\'}, {\\'key\\': \\'min_impurity_decrease\\', \\'old_value\\': None, \\'new_value\\': \\'0.0\\'}, {\\'key\\': \\'min_weight_fraction_leaf\\', \\'old_value\\': None, \\'new_value\\': \\'0.0\\'}, {\\'key\\': \\'n_jobs\\', \\'old_value\\': None, \\'new_value\\': \\'None\\'}, {\\'key\\': \\'oob_score\\', \\'old_value\\': None, \\'new_value\\': \\'False\\'}, {\\'key\\': \\'verbose\\', \\'old_value\\': None, \\'new_value\\': \\'0\\'}, {\\'key\\': \\'warm_start\\', \\'old_value\\': None, \\'new_value\\': \\'False\\'}]\\' for run ID=\\'7283c1c795954166bbe4fba08009ec32\\'.\")]')]\n",
      "\n"
     ]
    },
    {
     "name": "stdout",
     "output_type": "stream",
     "text": [
      "\r",
      " 48%|████▊     | 24/50 [01:48<03:06,  7.16s/trial, best loss: 6.629728007710133]"
     ]
    },
    {
     "name": "stderr",
     "output_type": "stream",
     "text": [
      "2022/05/29 23:46:25 WARNING mlflow.utils.autologging_utils: Encountered unexpected error during sklearn autologging: The following failures occurred while performing one or more logging operations: [MlflowException('Failed to perform one or more operations on the run with ID 2750ab9d40c24de9ac793c586b6577fa. Failed operations: [RestException(\"INVALID_PARAMETER_VALUE: Changing param values is not allowed. Params were already logged=\\'[{\\'key\\': \\'bootstrap\\', \\'old_value\\': None, \\'new_value\\': \\'True\\'}, {\\'key\\': \\'ccp_alpha\\', \\'old_value\\': None, \\'new_value\\': \\'0.0\\'}, {\\'key\\': \\'criterion\\', \\'old_value\\': None, \\'new_value\\': \\'squared_error\\'}, {\\'key\\': \\'max_features\\', \\'old_value\\': None, \\'new_value\\': \\'1.0\\'}, {\\'key\\': \\'max_leaf_nodes\\', \\'old_value\\': None, \\'new_value\\': \\'None\\'}, {\\'key\\': \\'max_samples\\', \\'old_value\\': None, \\'new_value\\': \\'None\\'}, {\\'key\\': \\'min_impurity_decrease\\', \\'old_value\\': None, \\'new_value\\': \\'0.0\\'}, {\\'key\\': \\'min_weight_fraction_leaf\\', \\'old_value\\': None, \\'new_value\\': \\'0.0\\'}, {\\'key\\': \\'n_jobs\\', \\'old_value\\': None, \\'new_value\\': \\'None\\'}, {\\'key\\': \\'oob_score\\', \\'old_value\\': None, \\'new_value\\': \\'False\\'}, {\\'key\\': \\'verbose\\', \\'old_value\\': None, \\'new_value\\': \\'0\\'}, {\\'key\\': \\'warm_start\\', \\'old_value\\': None, \\'new_value\\': \\'False\\'}]\\' for run ID=\\'2750ab9d40c24de9ac793c586b6577fa\\'.\")]')]\n",
      "\n"
     ]
    },
    {
     "name": "stdout",
     "output_type": "stream",
     "text": [
      "\r",
      " 50%|█████     | 25/50 [01:55<02:54,  7.00s/trial, best loss: 6.629728007710133]"
     ]
    },
    {
     "name": "stderr",
     "output_type": "stream",
     "text": [
      "2022/05/29 23:46:35 WARNING mlflow.utils.autologging_utils: Encountered unexpected error during sklearn autologging: The following failures occurred while performing one or more logging operations: [MlflowException('Failed to perform one or more operations on the run with ID 3488f9e94bd347b1aa5511cacf241d80. Failed operations: [RestException(\"INVALID_PARAMETER_VALUE: Changing param values is not allowed. Params were already logged=\\'[{\\'key\\': \\'bootstrap\\', \\'old_value\\': None, \\'new_value\\': \\'True\\'}, {\\'key\\': \\'ccp_alpha\\', \\'old_value\\': None, \\'new_value\\': \\'0.0\\'}, {\\'key\\': \\'criterion\\', \\'old_value\\': None, \\'new_value\\': \\'squared_error\\'}, {\\'key\\': \\'max_features\\', \\'old_value\\': None, \\'new_value\\': \\'1.0\\'}, {\\'key\\': \\'max_leaf_nodes\\', \\'old_value\\': None, \\'new_value\\': \\'None\\'}, {\\'key\\': \\'max_samples\\', \\'old_value\\': None, \\'new_value\\': \\'None\\'}, {\\'key\\': \\'min_impurity_decrease\\', \\'old_value\\': None, \\'new_value\\': \\'0.0\\'}, {\\'key\\': \\'min_weight_fraction_leaf\\', \\'old_value\\': None, \\'new_value\\': \\'0.0\\'}, {\\'key\\': \\'n_jobs\\', \\'old_value\\': None, \\'new_value\\': \\'None\\'}, {\\'key\\': \\'oob_score\\', \\'old_value\\': None, \\'new_value\\': \\'False\\'}, {\\'key\\': \\'verbose\\', \\'old_value\\': None, \\'new_value\\': \\'0\\'}, {\\'key\\': \\'warm_start\\', \\'old_value\\': None, \\'new_value\\': \\'False\\'}]\\' for run ID=\\'3488f9e94bd347b1aa5511cacf241d80\\'.\")]')]\n",
      "\n"
     ]
    },
    {
     "name": "stdout",
     "output_type": "stream",
     "text": [
      "\r",
      " 52%|█████▏    | 26/50 [02:04<03:04,  7.70s/trial, best loss: 6.629728007710133]"
     ]
    },
    {
     "name": "stderr",
     "output_type": "stream",
     "text": [
      "2022/05/29 23:46:39 WARNING mlflow.utils.autologging_utils: Encountered unexpected error during sklearn autologging: The following failures occurred while performing one or more logging operations: [MlflowException('Failed to perform one or more operations on the run with ID 9e67c799694248afbf1403585ce2a542. Failed operations: [RestException(\"INVALID_PARAMETER_VALUE: Changing param values is not allowed. Params were already logged=\\'[{\\'key\\': \\'bootstrap\\', \\'old_value\\': None, \\'new_value\\': \\'True\\'}, {\\'key\\': \\'ccp_alpha\\', \\'old_value\\': None, \\'new_value\\': \\'0.0\\'}, {\\'key\\': \\'criterion\\', \\'old_value\\': None, \\'new_value\\': \\'squared_error\\'}, {\\'key\\': \\'max_features\\', \\'old_value\\': None, \\'new_value\\': \\'1.0\\'}, {\\'key\\': \\'max_leaf_nodes\\', \\'old_value\\': None, \\'new_value\\': \\'None\\'}, {\\'key\\': \\'max_samples\\', \\'old_value\\': None, \\'new_value\\': \\'None\\'}, {\\'key\\': \\'min_impurity_decrease\\', \\'old_value\\': None, \\'new_value\\': \\'0.0\\'}, {\\'key\\': \\'min_weight_fraction_leaf\\', \\'old_value\\': None, \\'new_value\\': \\'0.0\\'}, {\\'key\\': \\'n_jobs\\', \\'old_value\\': None, \\'new_value\\': \\'None\\'}, {\\'key\\': \\'oob_score\\', \\'old_value\\': None, \\'new_value\\': \\'False\\'}, {\\'key\\': \\'verbose\\', \\'old_value\\': None, \\'new_value\\': \\'0\\'}, {\\'key\\': \\'warm_start\\', \\'old_value\\': None, \\'new_value\\': \\'False\\'}]\\' for run ID=\\'9e67c799694248afbf1403585ce2a542\\'.\")]')]\n",
      "\n"
     ]
    },
    {
     "name": "stdout",
     "output_type": "stream",
     "text": [
      "\r",
      " 54%|█████▍    | 27/50 [02:08<02:33,  6.66s/trial, best loss: 6.629728007710133]"
     ]
    },
    {
     "name": "stderr",
     "output_type": "stream",
     "text": [
      "2022/05/29 23:46:52 WARNING mlflow.utils.autologging_utils: Encountered unexpected error during sklearn autologging: The following failures occurred while performing one or more logging operations: [MlflowException('Failed to perform one or more operations on the run with ID 83308783a3614874b7a445fc86ae7233. Failed operations: [RestException(\"INVALID_PARAMETER_VALUE: Changing param values is not allowed. Params were already logged=\\'[{\\'key\\': \\'bootstrap\\', \\'old_value\\': None, \\'new_value\\': \\'True\\'}, {\\'key\\': \\'ccp_alpha\\', \\'old_value\\': None, \\'new_value\\': \\'0.0\\'}, {\\'key\\': \\'criterion\\', \\'old_value\\': None, \\'new_value\\': \\'squared_error\\'}, {\\'key\\': \\'max_features\\', \\'old_value\\': None, \\'new_value\\': \\'1.0\\'}, {\\'key\\': \\'max_leaf_nodes\\', \\'old_value\\': None, \\'new_value\\': \\'None\\'}, {\\'key\\': \\'max_samples\\', \\'old_value\\': None, \\'new_value\\': \\'None\\'}, {\\'key\\': \\'min_impurity_decrease\\', \\'old_value\\': None, \\'new_value\\': \\'0.0\\'}, {\\'key\\': \\'min_weight_fraction_leaf\\', \\'old_value\\': None, \\'new_value\\': \\'0.0\\'}, {\\'key\\': \\'n_jobs\\', \\'old_value\\': None, \\'new_value\\': \\'None\\'}, {\\'key\\': \\'oob_score\\', \\'old_value\\': None, \\'new_value\\': \\'False\\'}, {\\'key\\': \\'verbose\\', \\'old_value\\': None, \\'new_value\\': \\'0\\'}, {\\'key\\': \\'warm_start\\', \\'old_value\\': None, \\'new_value\\': \\'False\\'}]\\' for run ID=\\'83308783a3614874b7a445fc86ae7233\\'.\")]')]\n",
      "\n"
     ]
    },
    {
     "name": "stdout",
     "output_type": "stream",
     "text": [
      "\r",
      " 56%|█████▌    | 28/50 [02:21<03:08,  8.56s/trial, best loss: 6.629728007710133]"
     ]
    },
    {
     "name": "stderr",
     "output_type": "stream",
     "text": [
      "2022/05/29 23:46:55 WARNING mlflow.utils.autologging_utils: Encountered unexpected error during sklearn autologging: The following failures occurred while performing one or more logging operations: [MlflowException('Failed to perform one or more operations on the run with ID be135663ac40438cbe4ab5ca79c46ada. Failed operations: [RestException(\"INVALID_PARAMETER_VALUE: Changing param values is not allowed. Params were already logged=\\'[{\\'key\\': \\'bootstrap\\', \\'old_value\\': None, \\'new_value\\': \\'True\\'}, {\\'key\\': \\'ccp_alpha\\', \\'old_value\\': None, \\'new_value\\': \\'0.0\\'}, {\\'key\\': \\'criterion\\', \\'old_value\\': None, \\'new_value\\': \\'squared_error\\'}, {\\'key\\': \\'max_features\\', \\'old_value\\': None, \\'new_value\\': \\'1.0\\'}, {\\'key\\': \\'max_leaf_nodes\\', \\'old_value\\': None, \\'new_value\\': \\'None\\'}, {\\'key\\': \\'max_samples\\', \\'old_value\\': None, \\'new_value\\': \\'None\\'}, {\\'key\\': \\'min_impurity_decrease\\', \\'old_value\\': None, \\'new_value\\': \\'0.0\\'}, {\\'key\\': \\'min_weight_fraction_leaf\\', \\'old_value\\': None, \\'new_value\\': \\'0.0\\'}, {\\'key\\': \\'n_jobs\\', \\'old_value\\': None, \\'new_value\\': \\'None\\'}, {\\'key\\': \\'oob_score\\', \\'old_value\\': None, \\'new_value\\': \\'False\\'}, {\\'key\\': \\'verbose\\', \\'old_value\\': None, \\'new_value\\': \\'0\\'}, {\\'key\\': \\'warm_start\\', \\'old_value\\': None, \\'new_value\\': \\'False\\'}]\\' for run ID=\\'be135663ac40438cbe4ab5ca79c46ada\\'.\")]')]\n",
      "\n"
     ]
    },
    {
     "name": "stdout",
     "output_type": "stream",
     "text": [
      "\r",
      " 58%|█████▊    | 29/50 [02:24<02:24,  6.87s/trial, best loss: 6.629728007710133]"
     ]
    },
    {
     "name": "stderr",
     "output_type": "stream",
     "text": [
      "2022/05/29 23:47:02 WARNING mlflow.utils.autologging_utils: Encountered unexpected error during sklearn autologging: The following failures occurred while performing one or more logging operations: [MlflowException('Failed to perform one or more operations on the run with ID de6d2d91510d4095bae724eadbdb6317. Failed operations: [RestException(\"INVALID_PARAMETER_VALUE: Changing param values is not allowed. Params were already logged=\\'[{\\'key\\': \\'bootstrap\\', \\'old_value\\': None, \\'new_value\\': \\'True\\'}, {\\'key\\': \\'ccp_alpha\\', \\'old_value\\': None, \\'new_value\\': \\'0.0\\'}, {\\'key\\': \\'criterion\\', \\'old_value\\': None, \\'new_value\\': \\'squared_error\\'}, {\\'key\\': \\'max_features\\', \\'old_value\\': None, \\'new_value\\': \\'1.0\\'}, {\\'key\\': \\'max_leaf_nodes\\', \\'old_value\\': None, \\'new_value\\': \\'None\\'}, {\\'key\\': \\'max_samples\\', \\'old_value\\': None, \\'new_value\\': \\'None\\'}, {\\'key\\': \\'min_impurity_decrease\\', \\'old_value\\': None, \\'new_value\\': \\'0.0\\'}, {\\'key\\': \\'min_weight_fraction_leaf\\', \\'old_value\\': None, \\'new_value\\': \\'0.0\\'}, {\\'key\\': \\'n_jobs\\', \\'old_value\\': None, \\'new_value\\': \\'None\\'}, {\\'key\\': \\'oob_score\\', \\'old_value\\': None, \\'new_value\\': \\'False\\'}, {\\'key\\': \\'verbose\\', \\'old_value\\': None, \\'new_value\\': \\'0\\'}, {\\'key\\': \\'warm_start\\', \\'old_value\\': None, \\'new_value\\': \\'False\\'}]\\' for run ID=\\'de6d2d91510d4095bae724eadbdb6317\\'.\")]')]\n",
      "\n"
     ]
    },
    {
     "name": "stdout",
     "output_type": "stream",
     "text": [
      "\r",
      " 60%|██████    | 30/50 [02:31<02:20,  7.05s/trial, best loss: 6.629728007710133]"
     ]
    },
    {
     "name": "stderr",
     "output_type": "stream",
     "text": [
      "2022/05/29 23:47:08 WARNING mlflow.utils.autologging_utils: Encountered unexpected error during sklearn autologging: The following failures occurred while performing one or more logging operations: [MlflowException('Failed to perform one or more operations on the run with ID e0f74450dcb642868e25d4ff9b3fcc53. Failed operations: [RestException(\"INVALID_PARAMETER_VALUE: Changing param values is not allowed. Params were already logged=\\'[{\\'key\\': \\'bootstrap\\', \\'old_value\\': None, \\'new_value\\': \\'True\\'}, {\\'key\\': \\'ccp_alpha\\', \\'old_value\\': None, \\'new_value\\': \\'0.0\\'}, {\\'key\\': \\'criterion\\', \\'old_value\\': None, \\'new_value\\': \\'squared_error\\'}, {\\'key\\': \\'max_features\\', \\'old_value\\': None, \\'new_value\\': \\'1.0\\'}, {\\'key\\': \\'max_leaf_nodes\\', \\'old_value\\': None, \\'new_value\\': \\'None\\'}, {\\'key\\': \\'max_samples\\', \\'old_value\\': None, \\'new_value\\': \\'None\\'}, {\\'key\\': \\'min_impurity_decrease\\', \\'old_value\\': None, \\'new_value\\': \\'0.0\\'}, {\\'key\\': \\'min_weight_fraction_leaf\\', \\'old_value\\': None, \\'new_value\\': \\'0.0\\'}, {\\'key\\': \\'n_jobs\\', \\'old_value\\': None, \\'new_value\\': \\'None\\'}, {\\'key\\': \\'oob_score\\', \\'old_value\\': None, \\'new_value\\': \\'False\\'}, {\\'key\\': \\'verbose\\', \\'old_value\\': None, \\'new_value\\': \\'0\\'}, {\\'key\\': \\'warm_start\\', \\'old_value\\': None, \\'new_value\\': \\'False\\'}]\\' for run ID=\\'e0f74450dcb642868e25d4ff9b3fcc53\\'.\")]')]\n",
      "\n"
     ]
    },
    {
     "name": "stdout",
     "output_type": "stream",
     "text": [
      "\r",
      " 62%|██████▏   | 31/50 [02:37<02:07,  6.71s/trial, best loss: 6.629728007710133]"
     ]
    },
    {
     "name": "stderr",
     "output_type": "stream",
     "text": [
      "2022/05/29 23:47:13 WARNING mlflow.utils.autologging_utils: Encountered unexpected error during sklearn autologging: The following failures occurred while performing one or more logging operations: [MlflowException('Failed to perform one or more operations on the run with ID b560ad3a5693406ea1a6bcdeb3b9f0f6. Failed operations: [RestException(\"INVALID_PARAMETER_VALUE: Changing param values is not allowed. Params were already logged=\\'[{\\'key\\': \\'bootstrap\\', \\'old_value\\': None, \\'new_value\\': \\'True\\'}, {\\'key\\': \\'ccp_alpha\\', \\'old_value\\': None, \\'new_value\\': \\'0.0\\'}, {\\'key\\': \\'criterion\\', \\'old_value\\': None, \\'new_value\\': \\'squared_error\\'}, {\\'key\\': \\'max_features\\', \\'old_value\\': None, \\'new_value\\': \\'1.0\\'}, {\\'key\\': \\'max_leaf_nodes\\', \\'old_value\\': None, \\'new_value\\': \\'None\\'}, {\\'key\\': \\'max_samples\\', \\'old_value\\': None, \\'new_value\\': \\'None\\'}, {\\'key\\': \\'min_impurity_decrease\\', \\'old_value\\': None, \\'new_value\\': \\'0.0\\'}, {\\'key\\': \\'min_weight_fraction_leaf\\', \\'old_value\\': None, \\'new_value\\': \\'0.0\\'}, {\\'key\\': \\'n_jobs\\', \\'old_value\\': None, \\'new_value\\': \\'None\\'}, {\\'key\\': \\'oob_score\\', \\'old_value\\': None, \\'new_value\\': \\'False\\'}, {\\'key\\': \\'verbose\\', \\'old_value\\': None, \\'new_value\\': \\'0\\'}, {\\'key\\': \\'warm_start\\', \\'old_value\\': None, \\'new_value\\': \\'False\\'}]\\' for run ID=\\'b560ad3a5693406ea1a6bcdeb3b9f0f6\\'.\")]')]\n",
      "\n"
     ]
    },
    {
     "name": "stdout",
     "output_type": "stream",
     "text": [
      "\r",
      " 64%|██████▍   | 32/50 [02:42<01:51,  6.17s/trial, best loss: 6.629728007710133]"
     ]
    },
    {
     "name": "stderr",
     "output_type": "stream",
     "text": [
      "2022/05/29 23:47:21 WARNING mlflow.utils.autologging_utils: Encountered unexpected error during sklearn autologging: The following failures occurred while performing one or more logging operations: [MlflowException('Failed to perform one or more operations on the run with ID e0f13a6ad7144d9f92c19da38be84d29. Failed operations: [RestException(\"INVALID_PARAMETER_VALUE: Changing param values is not allowed. Params were already logged=\\'[{\\'key\\': \\'bootstrap\\', \\'old_value\\': None, \\'new_value\\': \\'True\\'}, {\\'key\\': \\'ccp_alpha\\', \\'old_value\\': None, \\'new_value\\': \\'0.0\\'}, {\\'key\\': \\'criterion\\', \\'old_value\\': None, \\'new_value\\': \\'squared_error\\'}, {\\'key\\': \\'max_features\\', \\'old_value\\': None, \\'new_value\\': \\'1.0\\'}, {\\'key\\': \\'max_leaf_nodes\\', \\'old_value\\': None, \\'new_value\\': \\'None\\'}, {\\'key\\': \\'max_samples\\', \\'old_value\\': None, \\'new_value\\': \\'None\\'}, {\\'key\\': \\'min_impurity_decrease\\', \\'old_value\\': None, \\'new_value\\': \\'0.0\\'}, {\\'key\\': \\'min_weight_fraction_leaf\\', \\'old_value\\': None, \\'new_value\\': \\'0.0\\'}, {\\'key\\': \\'n_jobs\\', \\'old_value\\': None, \\'new_value\\': \\'None\\'}, {\\'key\\': \\'oob_score\\', \\'old_value\\': None, \\'new_value\\': \\'False\\'}, {\\'key\\': \\'verbose\\', \\'old_value\\': None, \\'new_value\\': \\'0\\'}, {\\'key\\': \\'warm_start\\', \\'old_value\\': None, \\'new_value\\': \\'False\\'}]\\' for run ID=\\'e0f13a6ad7144d9f92c19da38be84d29\\'.\")]')]\n",
      "\n"
     ]
    },
    {
     "name": "stdout",
     "output_type": "stream",
     "text": [
      "\r",
      " 66%|██████▌   | 33/50 [02:50<01:53,  6.70s/trial, best loss: 6.629728007710133]"
     ]
    },
    {
     "name": "stderr",
     "output_type": "stream",
     "text": [
      "2022/05/29 23:47:28 WARNING mlflow.utils.autologging_utils: Encountered unexpected error during sklearn autologging: The following failures occurred while performing one or more logging operations: [MlflowException('Failed to perform one or more operations on the run with ID d80f8594de73487082bb58cf7b9ebb0a. Failed operations: [RestException(\"INVALID_PARAMETER_VALUE: Changing param values is not allowed. Params were already logged=\\'[{\\'key\\': \\'bootstrap\\', \\'old_value\\': None, \\'new_value\\': \\'True\\'}, {\\'key\\': \\'ccp_alpha\\', \\'old_value\\': None, \\'new_value\\': \\'0.0\\'}, {\\'key\\': \\'criterion\\', \\'old_value\\': None, \\'new_value\\': \\'squared_error\\'}, {\\'key\\': \\'max_features\\', \\'old_value\\': None, \\'new_value\\': \\'1.0\\'}, {\\'key\\': \\'max_leaf_nodes\\', \\'old_value\\': None, \\'new_value\\': \\'None\\'}, {\\'key\\': \\'max_samples\\', \\'old_value\\': None, \\'new_value\\': \\'None\\'}, {\\'key\\': \\'min_impurity_decrease\\', \\'old_value\\': None, \\'new_value\\': \\'0.0\\'}, {\\'key\\': \\'min_weight_fraction_leaf\\', \\'old_value\\': None, \\'new_value\\': \\'0.0\\'}, {\\'key\\': \\'n_jobs\\', \\'old_value\\': None, \\'new_value\\': \\'None\\'}, {\\'key\\': \\'oob_score\\', \\'old_value\\': None, \\'new_value\\': \\'False\\'}, {\\'key\\': \\'verbose\\', \\'old_value\\': None, \\'new_value\\': \\'0\\'}, {\\'key\\': \\'warm_start\\', \\'old_value\\': None, \\'new_value\\': \\'False\\'}]\\' for run ID=\\'d80f8594de73487082bb58cf7b9ebb0a\\'.\")]')]\n",
      "\n"
     ]
    },
    {
     "name": "stdout",
     "output_type": "stream",
     "text": [
      "\r",
      " 68%|██████   | 34/50 [02:57<01:49,  6.82s/trial, best loss: 6.6284257482044735]"
     ]
    },
    {
     "name": "stderr",
     "output_type": "stream",
     "text": [
      "2022/05/29 23:47:32 WARNING mlflow.utils.autologging_utils: Encountered unexpected error during sklearn autologging: The following failures occurred while performing one or more logging operations: [MlflowException('Failed to perform one or more operations on the run with ID ad7b5f4c1cbb4a50ba77b7938f113d0e. Failed operations: [RestException(\"INVALID_PARAMETER_VALUE: Changing param values is not allowed. Params were already logged=\\'[{\\'key\\': \\'bootstrap\\', \\'old_value\\': None, \\'new_value\\': \\'True\\'}, {\\'key\\': \\'ccp_alpha\\', \\'old_value\\': None, \\'new_value\\': \\'0.0\\'}, {\\'key\\': \\'criterion\\', \\'old_value\\': None, \\'new_value\\': \\'squared_error\\'}, {\\'key\\': \\'max_features\\', \\'old_value\\': None, \\'new_value\\': \\'1.0\\'}, {\\'key\\': \\'max_leaf_nodes\\', \\'old_value\\': None, \\'new_value\\': \\'None\\'}, {\\'key\\': \\'max_samples\\', \\'old_value\\': None, \\'new_value\\': \\'None\\'}, {\\'key\\': \\'min_impurity_decrease\\', \\'old_value\\': None, \\'new_value\\': \\'0.0\\'}, {\\'key\\': \\'min_weight_fraction_leaf\\', \\'old_value\\': None, \\'new_value\\': \\'0.0\\'}, {\\'key\\': \\'n_jobs\\', \\'old_value\\': None, \\'new_value\\': \\'None\\'}, {\\'key\\': \\'oob_score\\', \\'old_value\\': None, \\'new_value\\': \\'False\\'}, {\\'key\\': \\'verbose\\', \\'old_value\\': None, \\'new_value\\': \\'0\\'}, {\\'key\\': \\'warm_start\\', \\'old_value\\': None, \\'new_value\\': \\'False\\'}]\\' for run ID=\\'ad7b5f4c1cbb4a50ba77b7938f113d0e\\'.\")]')]\n",
      "\n"
     ]
    },
    {
     "name": "stdout",
     "output_type": "stream",
     "text": [
      "\r",
      " 70%|██████▎  | 35/50 [03:01<01:29,  5.95s/trial, best loss: 6.6284257482044735]"
     ]
    },
    {
     "name": "stderr",
     "output_type": "stream",
     "text": [
      "2022/05/29 23:47:37 WARNING mlflow.utils.autologging_utils: Encountered unexpected error during sklearn autologging: The following failures occurred while performing one or more logging operations: [MlflowException('Failed to perform one or more operations on the run with ID d59a26e8b949433ea3d44c44a420a671. Failed operations: [RestException(\"INVALID_PARAMETER_VALUE: Changing param values is not allowed. Params were already logged=\\'[{\\'key\\': \\'bootstrap\\', \\'old_value\\': None, \\'new_value\\': \\'True\\'}, {\\'key\\': \\'ccp_alpha\\', \\'old_value\\': None, \\'new_value\\': \\'0.0\\'}, {\\'key\\': \\'criterion\\', \\'old_value\\': None, \\'new_value\\': \\'squared_error\\'}, {\\'key\\': \\'max_features\\', \\'old_value\\': None, \\'new_value\\': \\'1.0\\'}, {\\'key\\': \\'max_leaf_nodes\\', \\'old_value\\': None, \\'new_value\\': \\'None\\'}, {\\'key\\': \\'max_samples\\', \\'old_value\\': None, \\'new_value\\': \\'None\\'}, {\\'key\\': \\'min_impurity_decrease\\', \\'old_value\\': None, \\'new_value\\': \\'0.0\\'}, {\\'key\\': \\'min_weight_fraction_leaf\\', \\'old_value\\': None, \\'new_value\\': \\'0.0\\'}, {\\'key\\': \\'n_jobs\\', \\'old_value\\': None, \\'new_value\\': \\'None\\'}, {\\'key\\': \\'oob_score\\', \\'old_value\\': None, \\'new_value\\': \\'False\\'}, {\\'key\\': \\'verbose\\', \\'old_value\\': None, \\'new_value\\': \\'0\\'}, {\\'key\\': \\'warm_start\\', \\'old_value\\': None, \\'new_value\\': \\'False\\'}]\\' for run ID=\\'d59a26e8b949433ea3d44c44a420a671\\'.\")]')]\n",
      "\n"
     ]
    },
    {
     "name": "stdout",
     "output_type": "stream",
     "text": [
      "\r",
      " 72%|██████▍  | 36/50 [03:06<01:17,  5.51s/trial, best loss: 6.6284257482044735]"
     ]
    },
    {
     "name": "stderr",
     "output_type": "stream",
     "text": [
      "2022/05/29 23:47:38 WARNING mlflow.utils.autologging_utils: Encountered unexpected error during sklearn autologging: The following failures occurred while performing one or more logging operations: [MlflowException('Failed to perform one or more operations on the run with ID 78d4049688c04aaeae8ba294cc99f64f. Failed operations: [RestException(\"INVALID_PARAMETER_VALUE: Changing param values is not allowed. Params were already logged=\\'[{\\'key\\': \\'bootstrap\\', \\'old_value\\': None, \\'new_value\\': \\'True\\'}, {\\'key\\': \\'ccp_alpha\\', \\'old_value\\': None, \\'new_value\\': \\'0.0\\'}, {\\'key\\': \\'criterion\\', \\'old_value\\': None, \\'new_value\\': \\'squared_error\\'}, {\\'key\\': \\'max_features\\', \\'old_value\\': None, \\'new_value\\': \\'1.0\\'}, {\\'key\\': \\'max_leaf_nodes\\', \\'old_value\\': None, \\'new_value\\': \\'None\\'}, {\\'key\\': \\'max_samples\\', \\'old_value\\': None, \\'new_value\\': \\'None\\'}, {\\'key\\': \\'min_impurity_decrease\\', \\'old_value\\': None, \\'new_value\\': \\'0.0\\'}, {\\'key\\': \\'min_weight_fraction_leaf\\', \\'old_value\\': None, \\'new_value\\': \\'0.0\\'}, {\\'key\\': \\'n_jobs\\', \\'old_value\\': None, \\'new_value\\': \\'None\\'}, {\\'key\\': \\'oob_score\\', \\'old_value\\': None, \\'new_value\\': \\'False\\'}, {\\'key\\': \\'verbose\\', \\'old_value\\': None, \\'new_value\\': \\'0\\'}, {\\'key\\': \\'warm_start\\', \\'old_value\\': None, \\'new_value\\': \\'False\\'}]\\' for run ID=\\'78d4049688c04aaeae8ba294cc99f64f\\'.\")]')]\n",
      "\n"
     ]
    },
    {
     "name": "stdout",
     "output_type": "stream",
     "text": [
      "\r",
      " 74%|██████▋  | 37/50 [03:07<00:54,  4.16s/trial, best loss: 6.6284257482044735]"
     ]
    },
    {
     "name": "stderr",
     "output_type": "stream",
     "text": [
      "2022/05/29 23:47:43 WARNING mlflow.utils.autologging_utils: Encountered unexpected error during sklearn autologging: The following failures occurred while performing one or more logging operations: [MlflowException('Failed to perform one or more operations on the run with ID 84155f337c6a499295744a617b7fba3d. Failed operations: [RestException(\"INVALID_PARAMETER_VALUE: Changing param values is not allowed. Params were already logged=\\'[{\\'key\\': \\'bootstrap\\', \\'old_value\\': None, \\'new_value\\': \\'True\\'}, {\\'key\\': \\'ccp_alpha\\', \\'old_value\\': None, \\'new_value\\': \\'0.0\\'}, {\\'key\\': \\'criterion\\', \\'old_value\\': None, \\'new_value\\': \\'squared_error\\'}, {\\'key\\': \\'max_features\\', \\'old_value\\': None, \\'new_value\\': \\'1.0\\'}, {\\'key\\': \\'max_leaf_nodes\\', \\'old_value\\': None, \\'new_value\\': \\'None\\'}, {\\'key\\': \\'max_samples\\', \\'old_value\\': None, \\'new_value\\': \\'None\\'}, {\\'key\\': \\'min_impurity_decrease\\', \\'old_value\\': None, \\'new_value\\': \\'0.0\\'}, {\\'key\\': \\'min_weight_fraction_leaf\\', \\'old_value\\': None, \\'new_value\\': \\'0.0\\'}, {\\'key\\': \\'n_jobs\\', \\'old_value\\': None, \\'new_value\\': \\'None\\'}, {\\'key\\': \\'oob_score\\', \\'old_value\\': None, \\'new_value\\': \\'False\\'}, {\\'key\\': \\'verbose\\', \\'old_value\\': None, \\'new_value\\': \\'0\\'}, {\\'key\\': \\'warm_start\\', \\'old_value\\': None, \\'new_value\\': \\'False\\'}]\\' for run ID=\\'84155f337c6a499295744a617b7fba3d\\'.\")]')]\n",
      "\n"
     ]
    },
    {
     "name": "stdout",
     "output_type": "stream",
     "text": [
      "\r",
      " 76%|██████▊  | 38/50 [03:12<00:53,  4.46s/trial, best loss: 6.6284257482044735]"
     ]
    },
    {
     "name": "stderr",
     "output_type": "stream",
     "text": [
      "2022/05/29 23:47:49 WARNING mlflow.utils.autologging_utils: Encountered unexpected error during sklearn autologging: The following failures occurred while performing one or more logging operations: [MlflowException('Failed to perform one or more operations on the run with ID fd75a7a64ab842f4a93e43b6fc40dd50. Failed operations: [RestException(\"INVALID_PARAMETER_VALUE: Changing param values is not allowed. Params were already logged=\\'[{\\'key\\': \\'bootstrap\\', \\'old_value\\': None, \\'new_value\\': \\'True\\'}, {\\'key\\': \\'ccp_alpha\\', \\'old_value\\': None, \\'new_value\\': \\'0.0\\'}, {\\'key\\': \\'criterion\\', \\'old_value\\': None, \\'new_value\\': \\'squared_error\\'}, {\\'key\\': \\'max_features\\', \\'old_value\\': None, \\'new_value\\': \\'1.0\\'}, {\\'key\\': \\'max_leaf_nodes\\', \\'old_value\\': None, \\'new_value\\': \\'None\\'}, {\\'key\\': \\'max_samples\\', \\'old_value\\': None, \\'new_value\\': \\'None\\'}, {\\'key\\': \\'min_impurity_decrease\\', \\'old_value\\': None, \\'new_value\\': \\'0.0\\'}, {\\'key\\': \\'min_weight_fraction_leaf\\', \\'old_value\\': None, \\'new_value\\': \\'0.0\\'}, {\\'key\\': \\'n_jobs\\', \\'old_value\\': None, \\'new_value\\': \\'None\\'}, {\\'key\\': \\'oob_score\\', \\'old_value\\': None, \\'new_value\\': \\'False\\'}, {\\'key\\': \\'verbose\\', \\'old_value\\': None, \\'new_value\\': \\'0\\'}, {\\'key\\': \\'warm_start\\', \\'old_value\\': None, \\'new_value\\': \\'False\\'}]\\' for run ID=\\'fd75a7a64ab842f4a93e43b6fc40dd50\\'.\")]')]\n",
      "\n"
     ]
    },
    {
     "name": "stdout",
     "output_type": "stream",
     "text": [
      "\r",
      " 78%|███████  | 39/50 [03:18<00:55,  5.05s/trial, best loss: 6.6284257482044735]"
     ]
    },
    {
     "name": "stderr",
     "output_type": "stream",
     "text": [
      "2022/05/29 23:47:55 WARNING mlflow.utils.autologging_utils: Encountered unexpected error during sklearn autologging: The following failures occurred while performing one or more logging operations: [MlflowException('Failed to perform one or more operations on the run with ID 0fe06e4769ce421a982ce6dfb2e874ff. Failed operations: [RestException(\"INVALID_PARAMETER_VALUE: Changing param values is not allowed. Params were already logged=\\'[{\\'key\\': \\'bootstrap\\', \\'old_value\\': None, \\'new_value\\': \\'True\\'}, {\\'key\\': \\'ccp_alpha\\', \\'old_value\\': None, \\'new_value\\': \\'0.0\\'}, {\\'key\\': \\'criterion\\', \\'old_value\\': None, \\'new_value\\': \\'squared_error\\'}, {\\'key\\': \\'max_features\\', \\'old_value\\': None, \\'new_value\\': \\'1.0\\'}, {\\'key\\': \\'max_leaf_nodes\\', \\'old_value\\': None, \\'new_value\\': \\'None\\'}, {\\'key\\': \\'max_samples\\', \\'old_value\\': None, \\'new_value\\': \\'None\\'}, {\\'key\\': \\'min_impurity_decrease\\', \\'old_value\\': None, \\'new_value\\': \\'0.0\\'}, {\\'key\\': \\'min_weight_fraction_leaf\\', \\'old_value\\': None, \\'new_value\\': \\'0.0\\'}, {\\'key\\': \\'n_jobs\\', \\'old_value\\': None, \\'new_value\\': \\'None\\'}, {\\'key\\': \\'oob_score\\', \\'old_value\\': None, \\'new_value\\': \\'False\\'}, {\\'key\\': \\'verbose\\', \\'old_value\\': None, \\'new_value\\': \\'0\\'}, {\\'key\\': \\'warm_start\\', \\'old_value\\': None, \\'new_value\\': \\'False\\'}]\\' for run ID=\\'0fe06e4769ce421a982ce6dfb2e874ff\\'.\")]')]\n",
      "\n"
     ]
    },
    {
     "name": "stdout",
     "output_type": "stream",
     "text": [
      "\r",
      " 80%|███████▏ | 40/50 [03:25<00:54,  5.44s/trial, best loss: 6.6284257482044735]"
     ]
    },
    {
     "name": "stderr",
     "output_type": "stream",
     "text": [
      "2022/05/29 23:47:57 WARNING mlflow.utils.autologging_utils: Encountered unexpected error during sklearn autologging: The following failures occurred while performing one or more logging operations: [MlflowException('Failed to perform one or more operations on the run with ID 98e3d5aec7b74d9f8edf2d7cbfdfcdd6. Failed operations: [RestException(\"INVALID_PARAMETER_VALUE: Changing param values is not allowed. Params were already logged=\\'[{\\'key\\': \\'bootstrap\\', \\'old_value\\': None, \\'new_value\\': \\'True\\'}, {\\'key\\': \\'ccp_alpha\\', \\'old_value\\': None, \\'new_value\\': \\'0.0\\'}, {\\'key\\': \\'criterion\\', \\'old_value\\': None, \\'new_value\\': \\'squared_error\\'}, {\\'key\\': \\'max_features\\', \\'old_value\\': None, \\'new_value\\': \\'1.0\\'}, {\\'key\\': \\'max_leaf_nodes\\', \\'old_value\\': None, \\'new_value\\': \\'None\\'}, {\\'key\\': \\'max_samples\\', \\'old_value\\': None, \\'new_value\\': \\'None\\'}, {\\'key\\': \\'min_impurity_decrease\\', \\'old_value\\': None, \\'new_value\\': \\'0.0\\'}, {\\'key\\': \\'min_weight_fraction_leaf\\', \\'old_value\\': None, \\'new_value\\': \\'0.0\\'}, {\\'key\\': \\'n_jobs\\', \\'old_value\\': None, \\'new_value\\': \\'None\\'}, {\\'key\\': \\'oob_score\\', \\'old_value\\': None, \\'new_value\\': \\'False\\'}, {\\'key\\': \\'verbose\\', \\'old_value\\': None, \\'new_value\\': \\'0\\'}, {\\'key\\': \\'warm_start\\', \\'old_value\\': None, \\'new_value\\': \\'False\\'}]\\' for run ID=\\'98e3d5aec7b74d9f8edf2d7cbfdfcdd6\\'.\")]')]\n",
      "\n"
     ]
    },
    {
     "name": "stdout",
     "output_type": "stream",
     "text": [
      "\r",
      " 82%|███████▍ | 41/50 [03:26<00:39,  4.34s/trial, best loss: 6.6284257482044735]"
     ]
    },
    {
     "name": "stderr",
     "output_type": "stream",
     "text": [
      "2022/05/29 23:48:01 WARNING mlflow.utils.autologging_utils: Encountered unexpected error during sklearn autologging: The following failures occurred while performing one or more logging operations: [MlflowException('Failed to perform one or more operations on the run with ID 39ff57c769e148efac465ed4f5c9a4cb. Failed operations: [RestException(\"INVALID_PARAMETER_VALUE: Changing param values is not allowed. Params were already logged=\\'[{\\'key\\': \\'bootstrap\\', \\'old_value\\': None, \\'new_value\\': \\'True\\'}, {\\'key\\': \\'ccp_alpha\\', \\'old_value\\': None, \\'new_value\\': \\'0.0\\'}, {\\'key\\': \\'criterion\\', \\'old_value\\': None, \\'new_value\\': \\'squared_error\\'}, {\\'key\\': \\'max_features\\', \\'old_value\\': None, \\'new_value\\': \\'1.0\\'}, {\\'key\\': \\'max_leaf_nodes\\', \\'old_value\\': None, \\'new_value\\': \\'None\\'}, {\\'key\\': \\'max_samples\\', \\'old_value\\': None, \\'new_value\\': \\'None\\'}, {\\'key\\': \\'min_impurity_decrease\\', \\'old_value\\': None, \\'new_value\\': \\'0.0\\'}, {\\'key\\': \\'min_weight_fraction_leaf\\', \\'old_value\\': None, \\'new_value\\': \\'0.0\\'}, {\\'key\\': \\'n_jobs\\', \\'old_value\\': None, \\'new_value\\': \\'None\\'}, {\\'key\\': \\'oob_score\\', \\'old_value\\': None, \\'new_value\\': \\'False\\'}, {\\'key\\': \\'verbose\\', \\'old_value\\': None, \\'new_value\\': \\'0\\'}, {\\'key\\': \\'warm_start\\', \\'old_value\\': None, \\'new_value\\': \\'False\\'}]\\' for run ID=\\'39ff57c769e148efac465ed4f5c9a4cb\\'.\")]')]\n",
      "\n"
     ]
    },
    {
     "name": "stdout",
     "output_type": "stream",
     "text": [
      "\r",
      " 84%|███████▌ | 42/50 [03:30<00:32,  4.01s/trial, best loss: 6.6284257482044735]"
     ]
    },
    {
     "name": "stderr",
     "output_type": "stream",
     "text": [
      "2022/05/29 23:48:07 WARNING mlflow.utils.autologging_utils: Encountered unexpected error during sklearn autologging: The following failures occurred while performing one or more logging operations: [MlflowException('Failed to perform one or more operations on the run with ID 0c4986bf784a4389a9bc11101271f4f1. Failed operations: [RestException(\"INVALID_PARAMETER_VALUE: Changing param values is not allowed. Params were already logged=\\'[{\\'key\\': \\'bootstrap\\', \\'old_value\\': None, \\'new_value\\': \\'True\\'}, {\\'key\\': \\'ccp_alpha\\', \\'old_value\\': None, \\'new_value\\': \\'0.0\\'}, {\\'key\\': \\'criterion\\', \\'old_value\\': None, \\'new_value\\': \\'squared_error\\'}, {\\'key\\': \\'max_features\\', \\'old_value\\': None, \\'new_value\\': \\'1.0\\'}, {\\'key\\': \\'max_leaf_nodes\\', \\'old_value\\': None, \\'new_value\\': \\'None\\'}, {\\'key\\': \\'max_samples\\', \\'old_value\\': None, \\'new_value\\': \\'None\\'}, {\\'key\\': \\'min_impurity_decrease\\', \\'old_value\\': None, \\'new_value\\': \\'0.0\\'}, {\\'key\\': \\'min_weight_fraction_leaf\\', \\'old_value\\': None, \\'new_value\\': \\'0.0\\'}, {\\'key\\': \\'n_jobs\\', \\'old_value\\': None, \\'new_value\\': \\'None\\'}, {\\'key\\': \\'oob_score\\', \\'old_value\\': None, \\'new_value\\': \\'False\\'}, {\\'key\\': \\'verbose\\', \\'old_value\\': None, \\'new_value\\': \\'0\\'}, {\\'key\\': \\'warm_start\\', \\'old_value\\': None, \\'new_value\\': \\'False\\'}]\\' for run ID=\\'0c4986bf784a4389a9bc11101271f4f1\\'.\")]')]\n",
      "\n"
     ]
    },
    {
     "name": "stdout",
     "output_type": "stream",
     "text": [
      "\r",
      " 86%|███████▋ | 43/50 [03:36<00:33,  4.78s/trial, best loss: 6.6284257482044735]"
     ]
    },
    {
     "name": "stderr",
     "output_type": "stream",
     "text": [
      "2022/05/29 23:48:13 WARNING mlflow.utils.autologging_utils: Encountered unexpected error during sklearn autologging: The following failures occurred while performing one or more logging operations: [MlflowException('Failed to perform one or more operations on the run with ID bc12b5141d1242fabaeaacfdf4610c74. Failed operations: [RestException(\"INVALID_PARAMETER_VALUE: Changing param values is not allowed. Params were already logged=\\'[{\\'key\\': \\'bootstrap\\', \\'old_value\\': None, \\'new_value\\': \\'True\\'}, {\\'key\\': \\'ccp_alpha\\', \\'old_value\\': None, \\'new_value\\': \\'0.0\\'}, {\\'key\\': \\'criterion\\', \\'old_value\\': None, \\'new_value\\': \\'squared_error\\'}, {\\'key\\': \\'max_features\\', \\'old_value\\': None, \\'new_value\\': \\'1.0\\'}, {\\'key\\': \\'max_leaf_nodes\\', \\'old_value\\': None, \\'new_value\\': \\'None\\'}, {\\'key\\': \\'max_samples\\', \\'old_value\\': None, \\'new_value\\': \\'None\\'}, {\\'key\\': \\'min_impurity_decrease\\', \\'old_value\\': None, \\'new_value\\': \\'0.0\\'}, {\\'key\\': \\'min_weight_fraction_leaf\\', \\'old_value\\': None, \\'new_value\\': \\'0.0\\'}, {\\'key\\': \\'n_jobs\\', \\'old_value\\': None, \\'new_value\\': \\'None\\'}, {\\'key\\': \\'oob_score\\', \\'old_value\\': None, \\'new_value\\': \\'False\\'}, {\\'key\\': \\'verbose\\', \\'old_value\\': None, \\'new_value\\': \\'0\\'}, {\\'key\\': \\'warm_start\\', \\'old_value\\': None, \\'new_value\\': \\'False\\'}]\\' for run ID=\\'bc12b5141d1242fabaeaacfdf4610c74\\'.\")]')]\n",
      "\n"
     ]
    },
    {
     "name": "stdout",
     "output_type": "stream",
     "text": [
      "\r",
      " 88%|███████▉ | 44/50 [03:42<00:30,  5.02s/trial, best loss: 6.6284257482044735]"
     ]
    },
    {
     "name": "stderr",
     "output_type": "stream",
     "text": [
      "2022/05/29 23:48:16 WARNING mlflow.utils.autologging_utils: Encountered unexpected error during sklearn autologging: The following failures occurred while performing one or more logging operations: [MlflowException('Failed to perform one or more operations on the run with ID 305f5effcd50401c8c35a31ddf1ece95. Failed operations: [RestException(\"INVALID_PARAMETER_VALUE: Changing param values is not allowed. Params were already logged=\\'[{\\'key\\': \\'bootstrap\\', \\'old_value\\': None, \\'new_value\\': \\'True\\'}, {\\'key\\': \\'ccp_alpha\\', \\'old_value\\': None, \\'new_value\\': \\'0.0\\'}, {\\'key\\': \\'criterion\\', \\'old_value\\': None, \\'new_value\\': \\'squared_error\\'}, {\\'key\\': \\'max_features\\', \\'old_value\\': None, \\'new_value\\': \\'1.0\\'}, {\\'key\\': \\'max_leaf_nodes\\', \\'old_value\\': None, \\'new_value\\': \\'None\\'}, {\\'key\\': \\'max_samples\\', \\'old_value\\': None, \\'new_value\\': \\'None\\'}, {\\'key\\': \\'min_impurity_decrease\\', \\'old_value\\': None, \\'new_value\\': \\'0.0\\'}, {\\'key\\': \\'min_weight_fraction_leaf\\', \\'old_value\\': None, \\'new_value\\': \\'0.0\\'}, {\\'key\\': \\'n_jobs\\', \\'old_value\\': None, \\'new_value\\': \\'None\\'}, {\\'key\\': \\'oob_score\\', \\'old_value\\': None, \\'new_value\\': \\'False\\'}, {\\'key\\': \\'verbose\\', \\'old_value\\': None, \\'new_value\\': \\'0\\'}, {\\'key\\': \\'warm_start\\', \\'old_value\\': None, \\'new_value\\': \\'False\\'}]\\' for run ID=\\'305f5effcd50401c8c35a31ddf1ece95\\'.\")]')]\n",
      "\n"
     ]
    },
    {
     "name": "stdout",
     "output_type": "stream",
     "text": [
      "\r",
      " 90%|████████ | 45/50 [03:45<00:22,  4.45s/trial, best loss: 6.6284257482044735]"
     ]
    },
    {
     "name": "stderr",
     "output_type": "stream",
     "text": [
      "2022/05/29 23:48:18 WARNING mlflow.utils.autologging_utils: Encountered unexpected error during sklearn autologging: The following failures occurred while performing one or more logging operations: [MlflowException('Failed to perform one or more operations on the run with ID b2be441d42b1481e8d88160a4d97ed82. Failed operations: [RestException(\"INVALID_PARAMETER_VALUE: Changing param values is not allowed. Params were already logged=\\'[{\\'key\\': \\'bootstrap\\', \\'old_value\\': None, \\'new_value\\': \\'True\\'}, {\\'key\\': \\'ccp_alpha\\', \\'old_value\\': None, \\'new_value\\': \\'0.0\\'}, {\\'key\\': \\'criterion\\', \\'old_value\\': None, \\'new_value\\': \\'squared_error\\'}, {\\'key\\': \\'max_features\\', \\'old_value\\': None, \\'new_value\\': \\'1.0\\'}, {\\'key\\': \\'max_leaf_nodes\\', \\'old_value\\': None, \\'new_value\\': \\'None\\'}, {\\'key\\': \\'max_samples\\', \\'old_value\\': None, \\'new_value\\': \\'None\\'}, {\\'key\\': \\'min_impurity_decrease\\', \\'old_value\\': None, \\'new_value\\': \\'0.0\\'}, {\\'key\\': \\'min_weight_fraction_leaf\\', \\'old_value\\': None, \\'new_value\\': \\'0.0\\'}, {\\'key\\': \\'n_jobs\\', \\'old_value\\': None, \\'new_value\\': \\'None\\'}, {\\'key\\': \\'oob_score\\', \\'old_value\\': None, \\'new_value\\': \\'False\\'}, {\\'key\\': \\'verbose\\', \\'old_value\\': None, \\'new_value\\': \\'0\\'}, {\\'key\\': \\'warm_start\\', \\'old_value\\': None, \\'new_value\\': \\'False\\'}]\\' for run ID=\\'b2be441d42b1481e8d88160a4d97ed82\\'.\")]')]\n",
      "\n"
     ]
    },
    {
     "name": "stdout",
     "output_type": "stream",
     "text": [
      "\r",
      " 92%|████████▎| 46/50 [03:47<00:14,  3.66s/trial, best loss: 6.6284257482044735]"
     ]
    },
    {
     "name": "stderr",
     "output_type": "stream",
     "text": [
      "2022/05/29 23:48:22 WARNING mlflow.utils.autologging_utils: Encountered unexpected error during sklearn autologging: The following failures occurred while performing one or more logging operations: [MlflowException('Failed to perform one or more operations on the run with ID 0138c1c47abd47308dbf38bf4f118349. Failed operations: [RestException(\"INVALID_PARAMETER_VALUE: Changing param values is not allowed. Params were already logged=\\'[{\\'key\\': \\'bootstrap\\', \\'old_value\\': None, \\'new_value\\': \\'True\\'}, {\\'key\\': \\'ccp_alpha\\', \\'old_value\\': None, \\'new_value\\': \\'0.0\\'}, {\\'key\\': \\'criterion\\', \\'old_value\\': None, \\'new_value\\': \\'squared_error\\'}, {\\'key\\': \\'max_features\\', \\'old_value\\': None, \\'new_value\\': \\'1.0\\'}, {\\'key\\': \\'max_leaf_nodes\\', \\'old_value\\': None, \\'new_value\\': \\'None\\'}, {\\'key\\': \\'max_samples\\', \\'old_value\\': None, \\'new_value\\': \\'None\\'}, {\\'key\\': \\'min_impurity_decrease\\', \\'old_value\\': None, \\'new_value\\': \\'0.0\\'}, {\\'key\\': \\'min_weight_fraction_leaf\\', \\'old_value\\': None, \\'new_value\\': \\'0.0\\'}, {\\'key\\': \\'n_jobs\\', \\'old_value\\': None, \\'new_value\\': \\'None\\'}, {\\'key\\': \\'oob_score\\', \\'old_value\\': None, \\'new_value\\': \\'False\\'}, {\\'key\\': \\'verbose\\', \\'old_value\\': None, \\'new_value\\': \\'0\\'}, {\\'key\\': \\'warm_start\\', \\'old_value\\': None, \\'new_value\\': \\'False\\'}]\\' for run ID=\\'0138c1c47abd47308dbf38bf4f118349\\'.\")]')]\n",
      "\n"
     ]
    },
    {
     "name": "stdout",
     "output_type": "stream",
     "text": [
      "\r",
      " 94%|████████▍| 47/50 [03:51<00:11,  3.87s/trial, best loss: 6.6284257482044735]"
     ]
    },
    {
     "name": "stderr",
     "output_type": "stream",
     "text": [
      "2022/05/29 23:48:25 WARNING mlflow.utils.autologging_utils: Encountered unexpected error during sklearn autologging: The following failures occurred while performing one or more logging operations: [MlflowException('Failed to perform one or more operations on the run with ID 14f159eca4b64e3bb70acfa9ba9033b1. Failed operations: [RestException(\"INVALID_PARAMETER_VALUE: Changing param values is not allowed. Params were already logged=\\'[{\\'key\\': \\'bootstrap\\', \\'old_value\\': None, \\'new_value\\': \\'True\\'}, {\\'key\\': \\'ccp_alpha\\', \\'old_value\\': None, \\'new_value\\': \\'0.0\\'}, {\\'key\\': \\'criterion\\', \\'old_value\\': None, \\'new_value\\': \\'squared_error\\'}, {\\'key\\': \\'max_features\\', \\'old_value\\': None, \\'new_value\\': \\'1.0\\'}, {\\'key\\': \\'max_leaf_nodes\\', \\'old_value\\': None, \\'new_value\\': \\'None\\'}, {\\'key\\': \\'max_samples\\', \\'old_value\\': None, \\'new_value\\': \\'None\\'}, {\\'key\\': \\'min_impurity_decrease\\', \\'old_value\\': None, \\'new_value\\': \\'0.0\\'}, {\\'key\\': \\'min_weight_fraction_leaf\\', \\'old_value\\': None, \\'new_value\\': \\'0.0\\'}, {\\'key\\': \\'n_jobs\\', \\'old_value\\': None, \\'new_value\\': \\'None\\'}, {\\'key\\': \\'oob_score\\', \\'old_value\\': None, \\'new_value\\': \\'False\\'}, {\\'key\\': \\'verbose\\', \\'old_value\\': None, \\'new_value\\': \\'0\\'}, {\\'key\\': \\'warm_start\\', \\'old_value\\': None, \\'new_value\\': \\'False\\'}]\\' for run ID=\\'14f159eca4b64e3bb70acfa9ba9033b1\\'.\")]')]\n",
      "\n"
     ]
    },
    {
     "name": "stdout",
     "output_type": "stream",
     "text": [
      "\r",
      " 96%|████████▋| 48/50 [03:54<00:07,  3.53s/trial, best loss: 6.6284257482044735]"
     ]
    },
    {
     "name": "stderr",
     "output_type": "stream",
     "text": [
      "2022/05/29 23:48:29 WARNING mlflow.utils.autologging_utils: Encountered unexpected error during sklearn autologging: The following failures occurred while performing one or more logging operations: [MlflowException('Failed to perform one or more operations on the run with ID 60dce880dce24cbabfaa8a79b310bc7d. Failed operations: [RestException(\"INVALID_PARAMETER_VALUE: Changing param values is not allowed. Params were already logged=\\'[{\\'key\\': \\'bootstrap\\', \\'old_value\\': None, \\'new_value\\': \\'True\\'}, {\\'key\\': \\'ccp_alpha\\', \\'old_value\\': None, \\'new_value\\': \\'0.0\\'}, {\\'key\\': \\'criterion\\', \\'old_value\\': None, \\'new_value\\': \\'squared_error\\'}, {\\'key\\': \\'max_features\\', \\'old_value\\': None, \\'new_value\\': \\'1.0\\'}, {\\'key\\': \\'max_leaf_nodes\\', \\'old_value\\': None, \\'new_value\\': \\'None\\'}, {\\'key\\': \\'max_samples\\', \\'old_value\\': None, \\'new_value\\': \\'None\\'}, {\\'key\\': \\'min_impurity_decrease\\', \\'old_value\\': None, \\'new_value\\': \\'0.0\\'}, {\\'key\\': \\'min_weight_fraction_leaf\\', \\'old_value\\': None, \\'new_value\\': \\'0.0\\'}, {\\'key\\': \\'n_jobs\\', \\'old_value\\': None, \\'new_value\\': \\'None\\'}, {\\'key\\': \\'oob_score\\', \\'old_value\\': None, \\'new_value\\': \\'False\\'}, {\\'key\\': \\'verbose\\', \\'old_value\\': None, \\'new_value\\': \\'0\\'}, {\\'key\\': \\'warm_start\\', \\'old_value\\': None, \\'new_value\\': \\'False\\'}]\\' for run ID=\\'60dce880dce24cbabfaa8a79b310bc7d\\'.\")]')]\n",
      "\n"
     ]
    },
    {
     "name": "stdout",
     "output_type": "stream",
     "text": [
      "\r",
      " 98%|████████▊| 49/50 [03:58<00:03,  3.65s/trial, best loss: 6.6284257482044735]"
     ]
    },
    {
     "name": "stderr",
     "output_type": "stream",
     "text": [
      "2022/05/29 23:48:34 WARNING mlflow.utils.autologging_utils: Encountered unexpected error during sklearn autologging: The following failures occurred while performing one or more logging operations: [MlflowException('Failed to perform one or more operations on the run with ID f0811472123847ada33509466175052f. Failed operations: [RestException(\"INVALID_PARAMETER_VALUE: Changing param values is not allowed. Params were already logged=\\'[{\\'key\\': \\'bootstrap\\', \\'old_value\\': None, \\'new_value\\': \\'True\\'}, {\\'key\\': \\'ccp_alpha\\', \\'old_value\\': None, \\'new_value\\': \\'0.0\\'}, {\\'key\\': \\'criterion\\', \\'old_value\\': None, \\'new_value\\': \\'squared_error\\'}, {\\'key\\': \\'max_features\\', \\'old_value\\': None, \\'new_value\\': \\'1.0\\'}, {\\'key\\': \\'max_leaf_nodes\\', \\'old_value\\': None, \\'new_value\\': \\'None\\'}, {\\'key\\': \\'max_samples\\', \\'old_value\\': None, \\'new_value\\': \\'None\\'}, {\\'key\\': \\'min_impurity_decrease\\', \\'old_value\\': None, \\'new_value\\': \\'0.0\\'}, {\\'key\\': \\'min_weight_fraction_leaf\\', \\'old_value\\': None, \\'new_value\\': \\'0.0\\'}, {\\'key\\': \\'n_jobs\\', \\'old_value\\': None, \\'new_value\\': \\'None\\'}, {\\'key\\': \\'oob_score\\', \\'old_value\\': None, \\'new_value\\': \\'False\\'}, {\\'key\\': \\'verbose\\', \\'old_value\\': None, \\'new_value\\': \\'0\\'}, {\\'key\\': \\'warm_start\\', \\'old_value\\': None, \\'new_value\\': \\'False\\'}]\\' for run ID=\\'f0811472123847ada33509466175052f\\'.\")]')]\n",
      "\n"
     ]
    },
    {
     "name": "stdout",
     "output_type": "stream",
     "text": [
      "100%|█████████| 50/50 [04:03<00:00,  4.87s/trial, best loss: 6.6284257482044735]\n"
     ]
    }
   ],
   "source": [
    "run(data_path = \"/Users/m.shark/Documents/mlops/mlops-zoomcamp/02-experiment-tracking/homework/output/\", num_trials = 50)"
   ]
  },
  {
   "cell_type": "code",
   "execution_count": null,
   "id": "8e849ebb",
   "metadata": {},
   "outputs": [],
   "source": []
  }
 ],
 "metadata": {
  "kernelspec": {
   "display_name": "Python 3 (ipykernel)",
   "language": "python",
   "name": "python3"
  },
  "language_info": {
   "codemirror_mode": {
    "name": "ipython",
    "version": 3
   },
   "file_extension": ".py",
   "mimetype": "text/x-python",
   "name": "python",
   "nbconvert_exporter": "python",
   "pygments_lexer": "ipython3",
   "version": "3.9.12"
  }
 },
 "nbformat": 4,
 "nbformat_minor": 5
}
