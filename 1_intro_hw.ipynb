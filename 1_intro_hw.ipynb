{
 "cells": [
  {
   "cell_type": "code",
   "execution_count": 51,
   "id": "91934720",
   "metadata": {},
   "outputs": [],
   "source": [
    "import pandas as pd\n",
    "from sklearn.linear_model import LinearRegression\n",
    "from sklearn.metrics import mean_squared_error, mean_squared_error\n",
    "from sklearn.feature_extraction import DictVectorizer"
   ]
  },
  {
   "cell_type": "code",
   "execution_count": 4,
   "id": "5fa4481e",
   "metadata": {},
   "outputs": [
    {
     "name": "stdout",
     "output_type": "stream",
     "text": [
      "Collecting fastparquet\n",
      "  Downloading fastparquet-0.8.1-cp39-cp39-macosx_10_9_universal2.whl (775 kB)\n",
      "\u001b[K     |████████████████████████████████| 775 kB 1.0 MB/s eta 0:00:01\n",
      "\u001b[?25hCollecting cramjam>=2.3.0\n",
      "  Downloading cramjam-2.5.0-cp39-cp39-macosx_10_9_x86_64.macosx_11_0_arm64.macosx_10_9_universal2.whl (2.7 MB)\n",
      "\u001b[K     |████████████████████████████████| 2.7 MB 2.7 MB/s eta 0:00:01\n",
      "\u001b[?25hRequirement already satisfied: fsspec in /Users/m.shark/opt/anaconda3/lib/python3.9/site-packages (from fastparquet) (2022.2.0)\n",
      "Requirement already satisfied: numpy>=1.18 in /Users/m.shark/opt/anaconda3/lib/python3.9/site-packages (from fastparquet) (1.21.5)\n",
      "Requirement already satisfied: pandas>=1.1.0 in /Users/m.shark/opt/anaconda3/lib/python3.9/site-packages (from fastparquet) (1.4.2)\n",
      "Requirement already satisfied: python-dateutil>=2.8.1 in /Users/m.shark/opt/anaconda3/lib/python3.9/site-packages (from pandas>=1.1.0->fastparquet) (2.8.2)\n",
      "Requirement already satisfied: pytz>=2020.1 in /Users/m.shark/opt/anaconda3/lib/python3.9/site-packages (from pandas>=1.1.0->fastparquet) (2021.3)\n",
      "Requirement already satisfied: six>=1.5 in /Users/m.shark/opt/anaconda3/lib/python3.9/site-packages (from python-dateutil>=2.8.1->pandas>=1.1.0->fastparquet) (1.16.0)\n",
      "Installing collected packages: cramjam, fastparquet\n",
      "Successfully installed cramjam-2.5.0 fastparquet-0.8.1\n"
     ]
    }
   ],
   "source": [
    "!pip install fastparquet"
   ]
  },
  {
   "cell_type": "code",
   "execution_count": 6,
   "id": "58a14a2e",
   "metadata": {},
   "outputs": [],
   "source": [
    "df_jan= pd.read_parquet('/Users/m.shark/Downloads/fhv_tripdata_2021-01.parquet', engine = 'fastparquet')"
   ]
  },
  {
   "cell_type": "code",
   "execution_count": 69,
   "id": "21e67ad4",
   "metadata": {},
   "outputs": [],
   "source": [
    "df_feb = pd.read_parquet('/Users/m.shark/Downloads/fhv_tripdata_2021-02.parquet', engine = 'fastparquet')"
   ]
  },
  {
   "cell_type": "code",
   "execution_count": 8,
   "id": "8550dcb1",
   "metadata": {},
   "outputs": [
    {
     "data": {
      "text/plain": [
       "1154112"
      ]
     },
     "execution_count": 8,
     "metadata": {},
     "output_type": "execute_result"
    }
   ],
   "source": [
    "# 1 \n",
    "len(df_jan)"
   ]
  },
  {
   "cell_type": "code",
   "execution_count": 12,
   "id": "63b7f6f2",
   "metadata": {},
   "outputs": [],
   "source": [
    "df_jan['duration'] = df_jan['dropOff_datetime'] - df_jan['pickup_datetime']\n",
    "df_jan['duration'] = df_jan['duration'].dt.total_seconds() / 60"
   ]
  },
  {
   "cell_type": "code",
   "execution_count": 70,
   "id": "1c320fc6",
   "metadata": {},
   "outputs": [],
   "source": [
    "df_feb['duration'] = df_feb['dropOff_datetime'] - df_feb['pickup_datetime']\n",
    "df_feb['duration'] = df_feb['duration'].dt.total_seconds() / 60"
   ]
  },
  {
   "cell_type": "code",
   "execution_count": 21,
   "id": "414c5d23",
   "metadata": {},
   "outputs": [
    {
     "data": {
      "text/plain": [
       "19.1672240937939"
      ]
     },
     "execution_count": 21,
     "metadata": {},
     "output_type": "execute_result"
    }
   ],
   "source": [
    "# 2 \n",
    "df_jan['duration'].mean()"
   ]
  },
  {
   "cell_type": "code",
   "execution_count": 23,
   "id": "6ec6f1d7",
   "metadata": {},
   "outputs": [
    {
     "data": {
      "text/plain": [
       "44286"
      ]
     },
     "execution_count": 23,
     "metadata": {},
     "output_type": "execute_result"
    }
   ],
   "source": [
    "#2.2\n",
    "cond = (df_jan.duration >= 1) & (df_jan.duration <= 60)\n",
    "len(df_jan[~cond])"
   ]
  },
  {
   "cell_type": "code",
   "execution_count": 24,
   "id": "a97bee77",
   "metadata": {},
   "outputs": [],
   "source": [
    "df_jan = df_jan[cond]"
   ]
  },
  {
   "cell_type": "code",
   "execution_count": 66,
   "id": "5fdfdc4b",
   "metadata": {},
   "outputs": [],
   "source": [
    "df_jan['PUlocationID'] = df_jan.PUlocationID.fillna(-1)\n",
    "# df_feb['PUlocationID'] = df_feb.PUlocationID.fillna(-1)"
   ]
  },
  {
   "cell_type": "code",
   "execution_count": 36,
   "id": "43cc1b4e",
   "metadata": {},
   "outputs": [
    {
     "data": {
      "text/plain": [
       "0.8352732770722617"
      ]
     },
     "execution_count": 36,
     "metadata": {},
     "output_type": "execute_result"
    }
   ],
   "source": [
    "#3\n",
    "df_jan[df_jan['PUlocationID'] == -1].count()['PUlocationID'] / len(df_jan)"
   ]
  },
  {
   "cell_type": "code",
   "execution_count": 45,
   "id": "872b9c4c",
   "metadata": {},
   "outputs": [],
   "source": [
    "categorical = ['PUlocationID', 'DOlocationID']\n",
    "df_jan[categorical] = df_jan[categorical].astype(str)"
   ]
  },
  {
   "cell_type": "code",
   "execution_count": 46,
   "id": "21cf56e5",
   "metadata": {},
   "outputs": [],
   "source": [
    "train_dicts = df_jan[categorical].to_dict(orient='records')\n",
    "dv = DictVectorizer()\n",
    "X_train = dv.fit_transform(train_dicts)"
   ]
  },
  {
   "cell_type": "code",
   "execution_count": 48,
   "id": "a228cd5e",
   "metadata": {},
   "outputs": [
    {
     "data": {
      "text/plain": [
       "525"
      ]
     },
     "execution_count": 48,
     "metadata": {},
     "output_type": "execute_result"
    }
   ],
   "source": [
    "# 4\n",
    "X_train.shape[1]"
   ]
  },
  {
   "cell_type": "code",
   "execution_count": 52,
   "id": "51fc0da3",
   "metadata": {},
   "outputs": [
    {
     "data": {
      "text/plain": [
       "10.52851910721175"
      ]
     },
     "execution_count": 52,
     "metadata": {},
     "output_type": "execute_result"
    }
   ],
   "source": [
    "target = 'duration'\n",
    "y_train = df_jan[target].values\n",
    "\n",
    "lr = LinearRegression()\n",
    "lr.fit(X_train, y_train)\n",
    "y_pred = lr.predict(X_train)\n",
    "mean_squared_error(y_train, y_pred, squared=False)"
   ]
  },
  {
   "cell_type": "code",
   "execution_count": 77,
   "id": "8a3b3112",
   "metadata": {
    "scrolled": true
   },
   "outputs": [
    {
     "name": "stdout",
     "output_type": "stream",
     "text": [
      "\n"
     ]
    }
   ],
   "source": [
    "cond = (df_feb.duration >= 1) & (df_feb.duration <= 60)\n",
    "df_feb = df_feb.loc[cond]\n",
    "df_feb[categorical] = df_feb[categorical].astype(str)\n",
    "test_dicts = df_feb[categorical].to_dict(orient='records')\n",
    "X_test = dv.transform(test_dicts)"
   ]
  },
  {
   "cell_type": "code",
   "execution_count": 73,
   "id": "28dc59d7",
   "metadata": {},
   "outputs": [],
   "source": [
    "y_test = df_feb.duration.values"
   ]
  },
  {
   "cell_type": "code",
   "execution_count": 74,
   "id": "a242b35e",
   "metadata": {},
   "outputs": [
    {
     "data": {
      "text/plain": [
       "11.371874821992126"
      ]
     },
     "execution_count": 74,
     "metadata": {},
     "output_type": "execute_result"
    }
   ],
   "source": [
    "y_pred_test = lr.predict(X_test)\n",
    "mean_squared_error(y_test, y_pred_test, squared=False)"
   ]
  }
 ],
 "metadata": {
  "kernelspec": {
   "display_name": "Python 3 (ipykernel)",
   "language": "python",
   "name": "python3"
  },
  "language_info": {
   "codemirror_mode": {
    "name": "ipython",
    "version": 3
   },
   "file_extension": ".py",
   "mimetype": "text/x-python",
   "name": "python",
   "nbconvert_exporter": "python",
   "pygments_lexer": "ipython3",
   "version": "3.9.12"
  }
 },
 "nbformat": 4,
 "nbformat_minor": 5
}
