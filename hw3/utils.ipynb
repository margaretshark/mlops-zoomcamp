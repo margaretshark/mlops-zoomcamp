{
 "cells": [
  {
   "cell_type": "code",
   "execution_count": 1,
   "id": "1b314e6f",
   "metadata": {},
   "outputs": [],
   "source": [
    "from sklearn.feature_extraction import DictVectorizer\n",
    "from sklearn.linear_model import LinearRegression\n",
    "from sklearn.metrics import mean_squared_error\n",
    "import pandas as pd"
   ]
  },
  {
   "cell_type": "code",
   "execution_count": 14,
   "id": "408eead2",
   "metadata": {},
   "outputs": [
    {
     "data": {
      "text/plain": [
       "13191"
      ]
     },
     "execution_count": 14,
     "metadata": {},
     "output_type": "execute_result"
    }
   ],
   "source": [
    "import os\n",
    "os.path.getsize(\"./models/dv-2021-08-15.b\")"
   ]
  },
  {
   "cell_type": "code",
   "execution_count": 6,
   "id": "67065ae3",
   "metadata": {},
   "outputs": [],
   "source": [
    "categorical = ['PUlocationID', 'DOlocationID']"
   ]
  },
  {
   "cell_type": "code",
   "execution_count": 7,
   "id": "b1c5032f",
   "metadata": {},
   "outputs": [],
   "source": [
    "df = pd.read_parquet('./data/fhv_tripdata_2021-02.parquet')\n",
    "\n",
    "def train_model(df, categorical):\n",
    "\n",
    "    train_dicts = df[categorical].to_dict(orient='records')\n",
    "    dv = DictVectorizer()\n",
    "    X_train = dv.fit_transform(train_dicts) \n",
    "    y_train = df.duration.values\n",
    "\n",
    "    print(f\"The shape of X_train is {X_train.shape}\")\n",
    "    print(f\"The DictVectorizer has {len(dv.feature_names_)} features\")\n",
    "\n",
    "    lr = LinearRegression()\n",
    "    lr.fit(X_train, y_train)\n",
    "    y_pred = lr.predict(X_train)\n",
    "    mse = mean_squared_error(y_train, y_pred, squared=False)\n",
    "    print(f\"The MSE of training is: {mse}\")\n",
    "    return lr, dv\n",
    "\n",
    "def prepare_features(df, categorical, train=True):\n",
    "    df['duration'] = df.dropOff_datetime - df.pickup_datetime\n",
    "    df['duration'] = df.duration.dt.total_seconds() / 60\n",
    "    df = df[(df.duration >= 1) & (df.duration <= 60)].copy()\n",
    "\n",
    "    mean_duration = df.duration.mean()\n",
    "    if train:\n",
    "        print(f\"The mean duration of training is {mean_duration}\")\n",
    "    else:\n",
    "        print(f\"The mean duration of validation is {mean_duration}\")\n",
    "    \n",
    "    df[categorical] = df[categorical].fillna(-1).astype('int').astype('str')\n",
    "    return df"
   ]
  },
  {
   "cell_type": "code",
   "execution_count": 8,
   "id": "d1c8175f",
   "metadata": {},
   "outputs": [
    {
     "name": "stdout",
     "output_type": "stream",
     "text": [
      "The mean duration of training is 16.859265811074096\n"
     ]
    }
   ],
   "source": [
    "df = prepare_features(df, categorical, train=True)\n"
   ]
  },
  {
   "cell_type": "code",
   "execution_count": 9,
   "id": "8211dd69",
   "metadata": {},
   "outputs": [
    {
     "name": "stdout",
     "output_type": "stream",
     "text": [
      "The shape of X_train is (990113, 526)\n",
      "The DictVectorizer has 526 features\n",
      "The MSE of training is: 10.958228946973438\n"
     ]
    }
   ],
   "source": [
    "lr, dv = train_model(df, categorical)"
   ]
  },
  {
   "cell_type": "code",
   "execution_count": 39,
   "id": "f2894b49",
   "metadata": {},
   "outputs": [
    {
     "data": {
      "text/plain": [
       "3"
      ]
     },
     "execution_count": 39,
     "metadata": {},
     "output_type": "execute_result"
    }
   ],
   "source": [
    "# date.strftime(\"%m\")\n",
    "int(datetime.datetime.strptime(date, \"%Y-%m-%d\").strftime(\"%m\"))"
   ]
  },
  {
   "cell_type": "code",
   "execution_count": 58,
   "id": "5586e81c",
   "metadata": {},
   "outputs": [],
   "source": [
    "def f(date):\n",
    "    # eщё надо цикл с годом \n",
    "    if date == None:\n",
    "        m = int(datetime.datetime.now().strftime(\"%m\"))\n",
    "    else:\n",
    "        m = int(datetime.datetime.strptime(date, \"%Y-%m-%d\").strftime(\"%m\"))\n",
    "        \n",
    "    if m == 2:\n",
    "        val_m, train_m = 1, 12\n",
    "    elif m == 1:\n",
    "        val_m, train_m = 12, 11\n",
    "    else: \n",
    "        val_m, train_m = m - 1, m - 2\n",
    "        \n",
    "    def f(val):\n",
    "\n",
    "        if val >= 10:\n",
    "            return str(val)\n",
    "        else:\n",
    "            return '0' + str(val)\n",
    "        \n",
    "    return f\"./data/fhv_tripdata_2021-{f(val_m)}.parquet\", f\"./data/fhv_tripdata_2021-{f(train_m)}.parquet\""
   ]
  },
  {
   "cell_type": "code",
   "execution_count": 63,
   "id": "c3ca1073",
   "metadata": {},
   "outputs": [
    {
     "data": {
      "text/html": [
       "<div>\n",
       "<style scoped>\n",
       "    .dataframe tbody tr th:only-of-type {\n",
       "        vertical-align: middle;\n",
       "    }\n",
       "\n",
       "    .dataframe tbody tr th {\n",
       "        vertical-align: top;\n",
       "    }\n",
       "\n",
       "    .dataframe thead th {\n",
       "        text-align: right;\n",
       "    }\n",
       "</style>\n",
       "<table border=\"1\" class=\"dataframe\">\n",
       "  <thead>\n",
       "    <tr style=\"text-align: right;\">\n",
       "      <th></th>\n",
       "      <th>dispatching_base_num</th>\n",
       "      <th>pickup_datetime</th>\n",
       "      <th>dropOff_datetime</th>\n",
       "      <th>PUlocationID</th>\n",
       "      <th>DOlocationID</th>\n",
       "      <th>SR_Flag</th>\n",
       "      <th>Affiliated_base_number</th>\n",
       "    </tr>\n",
       "  </thead>\n",
       "  <tbody>\n",
       "    <tr>\n",
       "      <th>0</th>\n",
       "      <td>B00021</td>\n",
       "      <td>2021-06-01 00:40:51</td>\n",
       "      <td>2021-06-01 00:50:22</td>\n",
       "      <td>173.0</td>\n",
       "      <td>173.0</td>\n",
       "      <td>NaN</td>\n",
       "      <td>B00021</td>\n",
       "    </tr>\n",
       "    <tr>\n",
       "      <th>1</th>\n",
       "      <td>B00021</td>\n",
       "      <td>2021-06-01 00:51:23</td>\n",
       "      <td>2021-06-01 01:19:01</td>\n",
       "      <td>173.0</td>\n",
       "      <td>36.0</td>\n",
       "      <td>NaN</td>\n",
       "      <td>B00021</td>\n",
       "    </tr>\n",
       "    <tr>\n",
       "      <th>2</th>\n",
       "      <td>B00021</td>\n",
       "      <td>2021-06-01 00:07:10</td>\n",
       "      <td>2021-06-01 00:17:34</td>\n",
       "      <td>173.0</td>\n",
       "      <td>129.0</td>\n",
       "      <td>NaN</td>\n",
       "      <td>B00021</td>\n",
       "    </tr>\n",
       "    <tr>\n",
       "      <th>3</th>\n",
       "      <td>B00021</td>\n",
       "      <td>2021-06-01 00:22:08</td>\n",
       "      <td>2021-06-01 00:27:22</td>\n",
       "      <td>82.0</td>\n",
       "      <td>82.0</td>\n",
       "      <td>NaN</td>\n",
       "      <td>B00021</td>\n",
       "    </tr>\n",
       "    <tr>\n",
       "      <th>4</th>\n",
       "      <td>B00021</td>\n",
       "      <td>2021-06-01 00:59:06</td>\n",
       "      <td>2021-06-01 01:06:58</td>\n",
       "      <td>56.0</td>\n",
       "      <td>173.0</td>\n",
       "      <td>NaN</td>\n",
       "      <td>B00021</td>\n",
       "    </tr>\n",
       "    <tr>\n",
       "      <th>...</th>\n",
       "      <td>...</td>\n",
       "      <td>...</td>\n",
       "      <td>...</td>\n",
       "      <td>...</td>\n",
       "      <td>...</td>\n",
       "      <td>...</td>\n",
       "      <td>...</td>\n",
       "    </tr>\n",
       "    <tr>\n",
       "      <th>1311341</th>\n",
       "      <td>B03321</td>\n",
       "      <td>2021-06-30 23:00:00</td>\n",
       "      <td>2021-06-30 23:45:00</td>\n",
       "      <td>NaN</td>\n",
       "      <td>NaN</td>\n",
       "      <td>NaN</td>\n",
       "      <td>B03321</td>\n",
       "    </tr>\n",
       "    <tr>\n",
       "      <th>1311342</th>\n",
       "      <td>B03321</td>\n",
       "      <td>2021-06-30 23:00:00</td>\n",
       "      <td>2021-06-30 23:35:00</td>\n",
       "      <td>NaN</td>\n",
       "      <td>NaN</td>\n",
       "      <td>NaN</td>\n",
       "      <td>B03323</td>\n",
       "    </tr>\n",
       "    <tr>\n",
       "      <th>1311343</th>\n",
       "      <td>B03340</td>\n",
       "      <td>2021-06-30 23:00:00</td>\n",
       "      <td>2021-06-30 23:58:00</td>\n",
       "      <td>NaN</td>\n",
       "      <td>NaN</td>\n",
       "      <td>NaN</td>\n",
       "      <td>B02866</td>\n",
       "    </tr>\n",
       "    <tr>\n",
       "      <th>1311344</th>\n",
       "      <td>B03340</td>\n",
       "      <td>2021-06-30 23:10:00</td>\n",
       "      <td>2021-06-30 23:37:00</td>\n",
       "      <td>NaN</td>\n",
       "      <td>NaN</td>\n",
       "      <td>NaN</td>\n",
       "      <td>B03233</td>\n",
       "    </tr>\n",
       "    <tr>\n",
       "      <th>1311345</th>\n",
       "      <td>B03381</td>\n",
       "      <td>2021-06-30 23:02:21</td>\n",
       "      <td>2021-06-30 23:23:45</td>\n",
       "      <td>NaN</td>\n",
       "      <td>49.0</td>\n",
       "      <td>NaN</td>\n",
       "      <td>B02492</td>\n",
       "    </tr>\n",
       "  </tbody>\n",
       "</table>\n",
       "<p>1311346 rows × 7 columns</p>\n",
       "</div>"
      ],
      "text/plain": [
       "        dispatching_base_num     pickup_datetime    dropOff_datetime  \\\n",
       "0                     B00021 2021-06-01 00:40:51 2021-06-01 00:50:22   \n",
       "1                     B00021 2021-06-01 00:51:23 2021-06-01 01:19:01   \n",
       "2                     B00021 2021-06-01 00:07:10 2021-06-01 00:17:34   \n",
       "3                     B00021 2021-06-01 00:22:08 2021-06-01 00:27:22   \n",
       "4                     B00021 2021-06-01 00:59:06 2021-06-01 01:06:58   \n",
       "...                      ...                 ...                 ...   \n",
       "1311341               B03321 2021-06-30 23:00:00 2021-06-30 23:45:00   \n",
       "1311342               B03321 2021-06-30 23:00:00 2021-06-30 23:35:00   \n",
       "1311343               B03340 2021-06-30 23:00:00 2021-06-30 23:58:00   \n",
       "1311344               B03340 2021-06-30 23:10:00 2021-06-30 23:37:00   \n",
       "1311345               B03381 2021-06-30 23:02:21 2021-06-30 23:23:45   \n",
       "\n",
       "         PUlocationID  DOlocationID  SR_Flag Affiliated_base_number  \n",
       "0               173.0         173.0      NaN        B00021           \n",
       "1               173.0          36.0      NaN        B00021           \n",
       "2               173.0         129.0      NaN        B00021           \n",
       "3                82.0          82.0      NaN        B00021           \n",
       "4                56.0         173.0      NaN        B00021           \n",
       "...               ...           ...      ...                    ...  \n",
       "1311341           NaN           NaN      NaN                 B03321  \n",
       "1311342           NaN           NaN      NaN                 B03323  \n",
       "1311343           NaN           NaN      NaN                 B02866  \n",
       "1311344           NaN           NaN      NaN                 B03233  \n",
       "1311345           NaN          49.0      NaN                 B02492  \n",
       "\n",
       "[1311346 rows x 7 columns]"
      ]
     },
     "execution_count": 63,
     "metadata": {},
     "output_type": "execute_result"
    }
   ],
   "source": [
    "pd.read_parquet(f(date = \"2021-08-15\")[1])"
   ]
  }
 ],
 "metadata": {
  "kernelspec": {
   "display_name": "Python 3 (ipykernel)",
   "language": "python",
   "name": "python3"
  },
  "language_info": {
   "codemirror_mode": {
    "name": "ipython",
    "version": 3
   },
   "file_extension": ".py",
   "mimetype": "text/x-python",
   "name": "python",
   "nbconvert_exporter": "python",
   "pygments_lexer": "ipython3",
   "version": "3.9.12"
  }
 },
 "nbformat": 4,
 "nbformat_minor": 5
}
